{
  "nbformat": 4,
  "nbformat_minor": 0,
  "metadata": {
    "kernelspec": {
      "display_name": "Python 3",
      "language": "python",
      "name": "python3"
    },
    "language_info": {
      "codemirror_mode": {
        "name": "ipython",
        "version": 3
      },
      "file_extension": ".py",
      "mimetype": "text/x-python",
      "name": "python",
      "nbconvert_exporter": "python",
      "pygments_lexer": "ipython3",
      "version": "3.7.3"
    },
    "colab": {
      "provenance": []
    }
  },
  "cells": [
    {
      "cell_type": "code",
      "metadata": {
        "id": "KThncA2PRd1g"
      },
      "source": [
        "#----Laptop price ML project"
      ],
      "execution_count": null,
      "outputs": []
    },
    {
      "cell_type": "code",
      "metadata": {
        "id": "G8PD21IoLnUq"
      },
      "source": [
        "#importing libraries\n",
        "import numpy as np\n",
        "import pandas as pd\n",
        "import matplotlib.pyplot as plt\n",
        "#ML library\n",
        "from sklearn.linear_model import LogisticRegression\n",
        "from sklearn.model_selection import train_test_split\n",
        "from sklearn import metrics\n",
        "import seaborn as sns\n"
      ],
      "execution_count": 1,
      "outputs": []
    },
    {
      "cell_type": "code",
      "metadata": {
        "id": "aaRmb1FrLnUs"
      },
      "source": [
        "from sklearn.datasets import make_moons\n",
        "from sklearn.linear_model import LogisticRegression\n",
        "from sklearn.svm import SVC\n",
        "from sklearn.ensemble import RandomForestClassifier\n",
        "from sklearn.ensemble import VotingClassifier\n",
        "from sklearn.metrics import accuracy_score\n",
        "# importing machine learning models for prediction xboost in ensembleing\n",
        "import xgboost as xgb\n",
        "# importing bagging module\n",
        "from sklearn.ensemble import BaggingRegressor\n",
        "\n",
        "from sklearn.datasets import make_moons\n",
        "from sklearn.linear_model import LogisticRegression\n",
        "from sklearn.svm import SVC\n",
        "from sklearn.ensemble import RandomForestClassifier\n",
        "from sklearn.ensemble import VotingClassifier\n",
        "from sklearn.metrics import accuracy_score\n",
        "\n",
        "\n",
        "\n"
      ],
      "execution_count": 2,
      "outputs": []
    },
    {
      "cell_type": "code",
      "metadata": {
        "id": "j6fbyWzYLnUt",
        "colab": {
          "base_uri": "https://localhost:8080/",
          "height": 406
        },
        "outputId": "797dd3da-b559-48e5-e89e-758f95fa4492"
      },
      "source": [
        "#1.Collecting the data\n",
        "from google.colab import drive\n",
        "drive.mount('/content/drive')\n",
        "\n",
        "data = pd.read_csv('/content/drive/My Drive/Colab Notebooks/laptop/laptop.csv',encoding = \"ISO-8859-1\")\n",
        "\n",
        "data.head( )\n",
        "\n",
        "\n"
      ],
      "execution_count": 3,
      "outputs": [
        {
          "output_type": "stream",
          "name": "stdout",
          "text": [
            "Mounted at /content/drive\n"
          ]
        },
        {
          "output_type": "execute_result",
          "data": {
            "text/plain": [
              "   S.NO                 Brand                           Processor  RAM(GB)  \\\n",
              "0     1  Lenovo Ideapad S145   Intel Core i5 Processor (10th Gen)        8   \n",
              "1     2    Lenovo Ideapad S23  Intel Core i3 Processor (11th Gen)        8   \n",
              "2     3  HP Pentium Light lap   Intel Pentium Quad Core Processor        8   \n",
              "3     4           HP 14S Core  Intel Core i3 Processor (11th Gen)        8   \n",
              "4     5        HP 15s Athlon       AMD Athlon Dual Core Processor        4   \n",
              "\n",
              "                      OperatingSystem  Storage(SSD)  Frequency(Hz)  \\\n",
              "0  64 bit Windows 10 Operating System           100              2   \n",
              "1  64 bit Windows 10 Operating System           256              3   \n",
              "2  64 bit Windows 10 Operating System           256              4   \n",
              "3  64 bit Windows 10 Operating System           256              5   \n",
              "4  64 bit Windows 10 Operating System           100              2   \n",
              "\n",
              "         GraphicsCard                       Display                Warranty  \\\n",
              "0               Ultra  39.62 cm (15.6 inch) Display  1 Year Onsite Warranty   \n",
              "1             BuiltIn    35.56 cm (14 Inch) Display  1 Year Onsite Warranty   \n",
              "2           Radeon RX    35.56 cm (14 inch) Display  1 Year Onsite Warranty   \n",
              "3  Radeon RX 6600 XT.    35.56 cm (14 inch) Display  1 Year Onsite Warranty   \n",
              "4         RX 7900 XTX  39.62 cm (15.6 inch) Display  1 Year Onsite Warranty   \n",
              "\n",
              "   Price  rating  \n",
              "0  45000     3.9  \n",
              "1  48000     4.2  \n",
              "2  55000     4.6  \n",
              "3  52000     3.5  \n",
              "4  35000     4.1  "
            ],
            "text/html": [
              "\n",
              "  <div id=\"df-44a26d84-4d78-4f6b-a972-54762ade343a\">\n",
              "    <div class=\"colab-df-container\">\n",
              "      <div>\n",
              "<style scoped>\n",
              "    .dataframe tbody tr th:only-of-type {\n",
              "        vertical-align: middle;\n",
              "    }\n",
              "\n",
              "    .dataframe tbody tr th {\n",
              "        vertical-align: top;\n",
              "    }\n",
              "\n",
              "    .dataframe thead th {\n",
              "        text-align: right;\n",
              "    }\n",
              "</style>\n",
              "<table border=\"1\" class=\"dataframe\">\n",
              "  <thead>\n",
              "    <tr style=\"text-align: right;\">\n",
              "      <th></th>\n",
              "      <th>S.NO</th>\n",
              "      <th>Brand</th>\n",
              "      <th>Processor</th>\n",
              "      <th>RAM(GB)</th>\n",
              "      <th>OperatingSystem</th>\n",
              "      <th>Storage(SSD)</th>\n",
              "      <th>Frequency(Hz)</th>\n",
              "      <th>GraphicsCard</th>\n",
              "      <th>Display</th>\n",
              "      <th>Warranty</th>\n",
              "      <th>Price</th>\n",
              "      <th>rating</th>\n",
              "    </tr>\n",
              "  </thead>\n",
              "  <tbody>\n",
              "    <tr>\n",
              "      <th>0</th>\n",
              "      <td>1</td>\n",
              "      <td>Lenovo Ideapad S145</td>\n",
              "      <td>Intel Core i5 Processor (10th Gen)</td>\n",
              "      <td>8</td>\n",
              "      <td>64 bit Windows 10 Operating System</td>\n",
              "      <td>100</td>\n",
              "      <td>2</td>\n",
              "      <td>Ultra</td>\n",
              "      <td>39.62 cm (15.6 inch) Display</td>\n",
              "      <td>1 Year Onsite Warranty</td>\n",
              "      <td>45000</td>\n",
              "      <td>3.9</td>\n",
              "    </tr>\n",
              "    <tr>\n",
              "      <th>1</th>\n",
              "      <td>2</td>\n",
              "      <td>Lenovo Ideapad S23</td>\n",
              "      <td>Intel Core i3 Processor (11th Gen)</td>\n",
              "      <td>8</td>\n",
              "      <td>64 bit Windows 10 Operating System</td>\n",
              "      <td>256</td>\n",
              "      <td>3</td>\n",
              "      <td>BuiltIn</td>\n",
              "      <td>35.56 cm (14 Inch) Display</td>\n",
              "      <td>1 Year Onsite Warranty</td>\n",
              "      <td>48000</td>\n",
              "      <td>4.2</td>\n",
              "    </tr>\n",
              "    <tr>\n",
              "      <th>2</th>\n",
              "      <td>3</td>\n",
              "      <td>HP Pentium Light lap</td>\n",
              "      <td>Intel Pentium Quad Core Processor</td>\n",
              "      <td>8</td>\n",
              "      <td>64 bit Windows 10 Operating System</td>\n",
              "      <td>256</td>\n",
              "      <td>4</td>\n",
              "      <td>Radeon RX</td>\n",
              "      <td>35.56 cm (14 inch) Display</td>\n",
              "      <td>1 Year Onsite Warranty</td>\n",
              "      <td>55000</td>\n",
              "      <td>4.6</td>\n",
              "    </tr>\n",
              "    <tr>\n",
              "      <th>3</th>\n",
              "      <td>4</td>\n",
              "      <td>HP 14S Core</td>\n",
              "      <td>Intel Core i3 Processor (11th Gen)</td>\n",
              "      <td>8</td>\n",
              "      <td>64 bit Windows 10 Operating System</td>\n",
              "      <td>256</td>\n",
              "      <td>5</td>\n",
              "      <td>Radeon RX 6600 XT.</td>\n",
              "      <td>35.56 cm (14 inch) Display</td>\n",
              "      <td>1 Year Onsite Warranty</td>\n",
              "      <td>52000</td>\n",
              "      <td>3.5</td>\n",
              "    </tr>\n",
              "    <tr>\n",
              "      <th>4</th>\n",
              "      <td>5</td>\n",
              "      <td>HP 15s Athlon</td>\n",
              "      <td>AMD Athlon Dual Core Processor</td>\n",
              "      <td>4</td>\n",
              "      <td>64 bit Windows 10 Operating System</td>\n",
              "      <td>100</td>\n",
              "      <td>2</td>\n",
              "      <td>RX 7900 XTX</td>\n",
              "      <td>39.62 cm (15.6 inch) Display</td>\n",
              "      <td>1 Year Onsite Warranty</td>\n",
              "      <td>35000</td>\n",
              "      <td>4.1</td>\n",
              "    </tr>\n",
              "  </tbody>\n",
              "</table>\n",
              "</div>\n",
              "      <button class=\"colab-df-convert\" onclick=\"convertToInteractive('df-44a26d84-4d78-4f6b-a972-54762ade343a')\"\n",
              "              title=\"Convert this dataframe to an interactive table.\"\n",
              "              style=\"display:none;\">\n",
              "        \n",
              "  <svg xmlns=\"http://www.w3.org/2000/svg\" height=\"24px\"viewBox=\"0 0 24 24\"\n",
              "       width=\"24px\">\n",
              "    <path d=\"M0 0h24v24H0V0z\" fill=\"none\"/>\n",
              "    <path d=\"M18.56 5.44l.94 2.06.94-2.06 2.06-.94-2.06-.94-.94-2.06-.94 2.06-2.06.94zm-11 1L8.5 8.5l.94-2.06 2.06-.94-2.06-.94L8.5 2.5l-.94 2.06-2.06.94zm10 10l.94 2.06.94-2.06 2.06-.94-2.06-.94-.94-2.06-.94 2.06-2.06.94z\"/><path d=\"M17.41 7.96l-1.37-1.37c-.4-.4-.92-.59-1.43-.59-.52 0-1.04.2-1.43.59L10.3 9.45l-7.72 7.72c-.78.78-.78 2.05 0 2.83L4 21.41c.39.39.9.59 1.41.59.51 0 1.02-.2 1.41-.59l7.78-7.78 2.81-2.81c.8-.78.8-2.07 0-2.86zM5.41 20L4 18.59l7.72-7.72 1.47 1.35L5.41 20z\"/>\n",
              "  </svg>\n",
              "      </button>\n",
              "      \n",
              "  <style>\n",
              "    .colab-df-container {\n",
              "      display:flex;\n",
              "      flex-wrap:wrap;\n",
              "      gap: 12px;\n",
              "    }\n",
              "\n",
              "    .colab-df-convert {\n",
              "      background-color: #E8F0FE;\n",
              "      border: none;\n",
              "      border-radius: 50%;\n",
              "      cursor: pointer;\n",
              "      display: none;\n",
              "      fill: #1967D2;\n",
              "      height: 32px;\n",
              "      padding: 0 0 0 0;\n",
              "      width: 32px;\n",
              "    }\n",
              "\n",
              "    .colab-df-convert:hover {\n",
              "      background-color: #E2EBFA;\n",
              "      box-shadow: 0px 1px 2px rgba(60, 64, 67, 0.3), 0px 1px 3px 1px rgba(60, 64, 67, 0.15);\n",
              "      fill: #174EA6;\n",
              "    }\n",
              "\n",
              "    [theme=dark] .colab-df-convert {\n",
              "      background-color: #3B4455;\n",
              "      fill: #D2E3FC;\n",
              "    }\n",
              "\n",
              "    [theme=dark] .colab-df-convert:hover {\n",
              "      background-color: #434B5C;\n",
              "      box-shadow: 0px 1px 3px 1px rgba(0, 0, 0, 0.15);\n",
              "      filter: drop-shadow(0px 1px 2px rgba(0, 0, 0, 0.3));\n",
              "      fill: #FFFFFF;\n",
              "    }\n",
              "  </style>\n",
              "\n",
              "      <script>\n",
              "        const buttonEl =\n",
              "          document.querySelector('#df-44a26d84-4d78-4f6b-a972-54762ade343a button.colab-df-convert');\n",
              "        buttonEl.style.display =\n",
              "          google.colab.kernel.accessAllowed ? 'block' : 'none';\n",
              "\n",
              "        async function convertToInteractive(key) {\n",
              "          const element = document.querySelector('#df-44a26d84-4d78-4f6b-a972-54762ade343a');\n",
              "          const dataTable =\n",
              "            await google.colab.kernel.invokeFunction('convertToInteractive',\n",
              "                                                     [key], {});\n",
              "          if (!dataTable) return;\n",
              "\n",
              "          const docLinkHtml = 'Like what you see? Visit the ' +\n",
              "            '<a target=\"_blank\" href=https://colab.research.google.com/notebooks/data_table.ipynb>data table notebook</a>'\n",
              "            + ' to learn more about interactive tables.';\n",
              "          element.innerHTML = '';\n",
              "          dataTable['output_type'] = 'display_data';\n",
              "          await google.colab.output.renderOutput(dataTable, element);\n",
              "          const docLink = document.createElement('div');\n",
              "          docLink.innerHTML = docLinkHtml;\n",
              "          element.appendChild(docLink);\n",
              "        }\n",
              "      </script>\n",
              "    </div>\n",
              "  </div>\n",
              "  "
            ]
          },
          "metadata": {},
          "execution_count": 3
        }
      ]
    },
    {
      "cell_type": "code",
      "source": [],
      "metadata": {
        "id": "rmLPy2dVv3Ja"
      },
      "execution_count": null,
      "outputs": []
    },
    {
      "cell_type": "code",
      "metadata": {
        "id": "es_Yi3VhLnUv"
      },
      "source": [
        "# preprocesssing"
      ],
      "execution_count": null,
      "outputs": []
    },
    {
      "cell_type": "code",
      "metadata": {
        "id": "BDM5nw9_LnUv",
        "colab": {
          "base_uri": "https://localhost:8080/",
          "height": 389
        },
        "outputId": "7033fb0c-5b0f-4d2f-df51-e222f74bffdb"
      },
      "source": [
        "\n",
        "data.head()"
      ],
      "execution_count": 5,
      "outputs": [
        {
          "output_type": "execute_result",
          "data": {
            "text/plain": [
              "   S.NO                 Brand                           Processor  RAM(GB)  \\\n",
              "0     1  Lenovo Ideapad S145   Intel Core i5 Processor (10th Gen)        8   \n",
              "1     2    Lenovo Ideapad S23  Intel Core i3 Processor (11th Gen)        8   \n",
              "2     3  HP Pentium Light lap   Intel Pentium Quad Core Processor        8   \n",
              "3     4           HP 14S Core  Intel Core i3 Processor (11th Gen)        8   \n",
              "4     5        HP 15s Athlon       AMD Athlon Dual Core Processor        4   \n",
              "\n",
              "                      OperatingSystem  Storage(SSD)  Frequency(Hz)  \\\n",
              "0  64 bit Windows 10 Operating System           100              2   \n",
              "1  64 bit Windows 10 Operating System           256              3   \n",
              "2  64 bit Windows 10 Operating System           256              4   \n",
              "3  64 bit Windows 10 Operating System           256              5   \n",
              "4  64 bit Windows 10 Operating System           100              2   \n",
              "\n",
              "         GraphicsCard                       Display                Warranty  \\\n",
              "0               Ultra  39.62 cm (15.6 inch) Display  1 Year Onsite Warranty   \n",
              "1             BuiltIn    35.56 cm (14 Inch) Display  1 Year Onsite Warranty   \n",
              "2           Radeon RX    35.56 cm (14 inch) Display  1 Year Onsite Warranty   \n",
              "3  Radeon RX 6600 XT.    35.56 cm (14 inch) Display  1 Year Onsite Warranty   \n",
              "4         RX 7900 XTX  39.62 cm (15.6 inch) Display  1 Year Onsite Warranty   \n",
              "\n",
              "   Price  rating  \n",
              "0  45000     3.9  \n",
              "1  48000     4.2  \n",
              "2  55000     4.6  \n",
              "3  52000     3.5  \n",
              "4  35000     4.1  "
            ],
            "text/html": [
              "\n",
              "  <div id=\"df-30fe4b17-b778-4d3f-8ca0-d55747146e44\">\n",
              "    <div class=\"colab-df-container\">\n",
              "      <div>\n",
              "<style scoped>\n",
              "    .dataframe tbody tr th:only-of-type {\n",
              "        vertical-align: middle;\n",
              "    }\n",
              "\n",
              "    .dataframe tbody tr th {\n",
              "        vertical-align: top;\n",
              "    }\n",
              "\n",
              "    .dataframe thead th {\n",
              "        text-align: right;\n",
              "    }\n",
              "</style>\n",
              "<table border=\"1\" class=\"dataframe\">\n",
              "  <thead>\n",
              "    <tr style=\"text-align: right;\">\n",
              "      <th></th>\n",
              "      <th>S.NO</th>\n",
              "      <th>Brand</th>\n",
              "      <th>Processor</th>\n",
              "      <th>RAM(GB)</th>\n",
              "      <th>OperatingSystem</th>\n",
              "      <th>Storage(SSD)</th>\n",
              "      <th>Frequency(Hz)</th>\n",
              "      <th>GraphicsCard</th>\n",
              "      <th>Display</th>\n",
              "      <th>Warranty</th>\n",
              "      <th>Price</th>\n",
              "      <th>rating</th>\n",
              "    </tr>\n",
              "  </thead>\n",
              "  <tbody>\n",
              "    <tr>\n",
              "      <th>0</th>\n",
              "      <td>1</td>\n",
              "      <td>Lenovo Ideapad S145</td>\n",
              "      <td>Intel Core i5 Processor (10th Gen)</td>\n",
              "      <td>8</td>\n",
              "      <td>64 bit Windows 10 Operating System</td>\n",
              "      <td>100</td>\n",
              "      <td>2</td>\n",
              "      <td>Ultra</td>\n",
              "      <td>39.62 cm (15.6 inch) Display</td>\n",
              "      <td>1 Year Onsite Warranty</td>\n",
              "      <td>45000</td>\n",
              "      <td>3.9</td>\n",
              "    </tr>\n",
              "    <tr>\n",
              "      <th>1</th>\n",
              "      <td>2</td>\n",
              "      <td>Lenovo Ideapad S23</td>\n",
              "      <td>Intel Core i3 Processor (11th Gen)</td>\n",
              "      <td>8</td>\n",
              "      <td>64 bit Windows 10 Operating System</td>\n",
              "      <td>256</td>\n",
              "      <td>3</td>\n",
              "      <td>BuiltIn</td>\n",
              "      <td>35.56 cm (14 Inch) Display</td>\n",
              "      <td>1 Year Onsite Warranty</td>\n",
              "      <td>48000</td>\n",
              "      <td>4.2</td>\n",
              "    </tr>\n",
              "    <tr>\n",
              "      <th>2</th>\n",
              "      <td>3</td>\n",
              "      <td>HP Pentium Light lap</td>\n",
              "      <td>Intel Pentium Quad Core Processor</td>\n",
              "      <td>8</td>\n",
              "      <td>64 bit Windows 10 Operating System</td>\n",
              "      <td>256</td>\n",
              "      <td>4</td>\n",
              "      <td>Radeon RX</td>\n",
              "      <td>35.56 cm (14 inch) Display</td>\n",
              "      <td>1 Year Onsite Warranty</td>\n",
              "      <td>55000</td>\n",
              "      <td>4.6</td>\n",
              "    </tr>\n",
              "    <tr>\n",
              "      <th>3</th>\n",
              "      <td>4</td>\n",
              "      <td>HP 14S Core</td>\n",
              "      <td>Intel Core i3 Processor (11th Gen)</td>\n",
              "      <td>8</td>\n",
              "      <td>64 bit Windows 10 Operating System</td>\n",
              "      <td>256</td>\n",
              "      <td>5</td>\n",
              "      <td>Radeon RX 6600 XT.</td>\n",
              "      <td>35.56 cm (14 inch) Display</td>\n",
              "      <td>1 Year Onsite Warranty</td>\n",
              "      <td>52000</td>\n",
              "      <td>3.5</td>\n",
              "    </tr>\n",
              "    <tr>\n",
              "      <th>4</th>\n",
              "      <td>5</td>\n",
              "      <td>HP 15s Athlon</td>\n",
              "      <td>AMD Athlon Dual Core Processor</td>\n",
              "      <td>4</td>\n",
              "      <td>64 bit Windows 10 Operating System</td>\n",
              "      <td>100</td>\n",
              "      <td>2</td>\n",
              "      <td>RX 7900 XTX</td>\n",
              "      <td>39.62 cm (15.6 inch) Display</td>\n",
              "      <td>1 Year Onsite Warranty</td>\n",
              "      <td>35000</td>\n",
              "      <td>4.1</td>\n",
              "    </tr>\n",
              "  </tbody>\n",
              "</table>\n",
              "</div>\n",
              "      <button class=\"colab-df-convert\" onclick=\"convertToInteractive('df-30fe4b17-b778-4d3f-8ca0-d55747146e44')\"\n",
              "              title=\"Convert this dataframe to an interactive table.\"\n",
              "              style=\"display:none;\">\n",
              "        \n",
              "  <svg xmlns=\"http://www.w3.org/2000/svg\" height=\"24px\"viewBox=\"0 0 24 24\"\n",
              "       width=\"24px\">\n",
              "    <path d=\"M0 0h24v24H0V0z\" fill=\"none\"/>\n",
              "    <path d=\"M18.56 5.44l.94 2.06.94-2.06 2.06-.94-2.06-.94-.94-2.06-.94 2.06-2.06.94zm-11 1L8.5 8.5l.94-2.06 2.06-.94-2.06-.94L8.5 2.5l-.94 2.06-2.06.94zm10 10l.94 2.06.94-2.06 2.06-.94-2.06-.94-.94-2.06-.94 2.06-2.06.94z\"/><path d=\"M17.41 7.96l-1.37-1.37c-.4-.4-.92-.59-1.43-.59-.52 0-1.04.2-1.43.59L10.3 9.45l-7.72 7.72c-.78.78-.78 2.05 0 2.83L4 21.41c.39.39.9.59 1.41.59.51 0 1.02-.2 1.41-.59l7.78-7.78 2.81-2.81c.8-.78.8-2.07 0-2.86zM5.41 20L4 18.59l7.72-7.72 1.47 1.35L5.41 20z\"/>\n",
              "  </svg>\n",
              "      </button>\n",
              "      \n",
              "  <style>\n",
              "    .colab-df-container {\n",
              "      display:flex;\n",
              "      flex-wrap:wrap;\n",
              "      gap: 12px;\n",
              "    }\n",
              "\n",
              "    .colab-df-convert {\n",
              "      background-color: #E8F0FE;\n",
              "      border: none;\n",
              "      border-radius: 50%;\n",
              "      cursor: pointer;\n",
              "      display: none;\n",
              "      fill: #1967D2;\n",
              "      height: 32px;\n",
              "      padding: 0 0 0 0;\n",
              "      width: 32px;\n",
              "    }\n",
              "\n",
              "    .colab-df-convert:hover {\n",
              "      background-color: #E2EBFA;\n",
              "      box-shadow: 0px 1px 2px rgba(60, 64, 67, 0.3), 0px 1px 3px 1px rgba(60, 64, 67, 0.15);\n",
              "      fill: #174EA6;\n",
              "    }\n",
              "\n",
              "    [theme=dark] .colab-df-convert {\n",
              "      background-color: #3B4455;\n",
              "      fill: #D2E3FC;\n",
              "    }\n",
              "\n",
              "    [theme=dark] .colab-df-convert:hover {\n",
              "      background-color: #434B5C;\n",
              "      box-shadow: 0px 1px 3px 1px rgba(0, 0, 0, 0.15);\n",
              "      filter: drop-shadow(0px 1px 2px rgba(0, 0, 0, 0.3));\n",
              "      fill: #FFFFFF;\n",
              "    }\n",
              "  </style>\n",
              "\n",
              "      <script>\n",
              "        const buttonEl =\n",
              "          document.querySelector('#df-30fe4b17-b778-4d3f-8ca0-d55747146e44 button.colab-df-convert');\n",
              "        buttonEl.style.display =\n",
              "          google.colab.kernel.accessAllowed ? 'block' : 'none';\n",
              "\n",
              "        async function convertToInteractive(key) {\n",
              "          const element = document.querySelector('#df-30fe4b17-b778-4d3f-8ca0-d55747146e44');\n",
              "          const dataTable =\n",
              "            await google.colab.kernel.invokeFunction('convertToInteractive',\n",
              "                                                     [key], {});\n",
              "          if (!dataTable) return;\n",
              "\n",
              "          const docLinkHtml = 'Like what you see? Visit the ' +\n",
              "            '<a target=\"_blank\" href=https://colab.research.google.com/notebooks/data_table.ipynb>data table notebook</a>'\n",
              "            + ' to learn more about interactive tables.';\n",
              "          element.innerHTML = '';\n",
              "          dataTable['output_type'] = 'display_data';\n",
              "          await google.colab.output.renderOutput(dataTable, element);\n",
              "          const docLink = document.createElement('div');\n",
              "          docLink.innerHTML = docLinkHtml;\n",
              "          element.appendChild(docLink);\n",
              "        }\n",
              "      </script>\n",
              "    </div>\n",
              "  </div>\n",
              "  "
            ]
          },
          "metadata": {},
          "execution_count": 5
        }
      ]
    },
    {
      "cell_type": "code",
      "metadata": {
        "id": "tOl1ty9GLnUw",
        "colab": {
          "base_uri": "https://localhost:8080/",
          "height": 337
        },
        "outputId": "68f3c0ea-9472-40be-b34d-423e21ec6041"
      },
      "source": [
        "data.drop('S.NO',axis=1,inplace=True)\n",
        "data.head()"
      ],
      "execution_count": 6,
      "outputs": [
        {
          "output_type": "execute_result",
          "data": {
            "text/plain": [
              "                  Brand                           Processor  RAM(GB)  \\\n",
              "0  Lenovo Ideapad S145   Intel Core i5 Processor (10th Gen)        8   \n",
              "1    Lenovo Ideapad S23  Intel Core i3 Processor (11th Gen)        8   \n",
              "2  HP Pentium Light lap   Intel Pentium Quad Core Processor        8   \n",
              "3           HP 14S Core  Intel Core i3 Processor (11th Gen)        8   \n",
              "4        HP 15s Athlon       AMD Athlon Dual Core Processor        4   \n",
              "\n",
              "                      OperatingSystem  Storage(SSD)  Frequency(Hz)  \\\n",
              "0  64 bit Windows 10 Operating System           100              2   \n",
              "1  64 bit Windows 10 Operating System           256              3   \n",
              "2  64 bit Windows 10 Operating System           256              4   \n",
              "3  64 bit Windows 10 Operating System           256              5   \n",
              "4  64 bit Windows 10 Operating System           100              2   \n",
              "\n",
              "         GraphicsCard                       Display                Warranty  \\\n",
              "0               Ultra  39.62 cm (15.6 inch) Display  1 Year Onsite Warranty   \n",
              "1             BuiltIn    35.56 cm (14 Inch) Display  1 Year Onsite Warranty   \n",
              "2           Radeon RX    35.56 cm (14 inch) Display  1 Year Onsite Warranty   \n",
              "3  Radeon RX 6600 XT.    35.56 cm (14 inch) Display  1 Year Onsite Warranty   \n",
              "4         RX 7900 XTX  39.62 cm (15.6 inch) Display  1 Year Onsite Warranty   \n",
              "\n",
              "   Price  rating  \n",
              "0  45000     3.9  \n",
              "1  48000     4.2  \n",
              "2  55000     4.6  \n",
              "3  52000     3.5  \n",
              "4  35000     4.1  "
            ],
            "text/html": [
              "\n",
              "  <div id=\"df-d1f385bc-2715-41a7-8fac-7d1e4dae0d6d\">\n",
              "    <div class=\"colab-df-container\">\n",
              "      <div>\n",
              "<style scoped>\n",
              "    .dataframe tbody tr th:only-of-type {\n",
              "        vertical-align: middle;\n",
              "    }\n",
              "\n",
              "    .dataframe tbody tr th {\n",
              "        vertical-align: top;\n",
              "    }\n",
              "\n",
              "    .dataframe thead th {\n",
              "        text-align: right;\n",
              "    }\n",
              "</style>\n",
              "<table border=\"1\" class=\"dataframe\">\n",
              "  <thead>\n",
              "    <tr style=\"text-align: right;\">\n",
              "      <th></th>\n",
              "      <th>Brand</th>\n",
              "      <th>Processor</th>\n",
              "      <th>RAM(GB)</th>\n",
              "      <th>OperatingSystem</th>\n",
              "      <th>Storage(SSD)</th>\n",
              "      <th>Frequency(Hz)</th>\n",
              "      <th>GraphicsCard</th>\n",
              "      <th>Display</th>\n",
              "      <th>Warranty</th>\n",
              "      <th>Price</th>\n",
              "      <th>rating</th>\n",
              "    </tr>\n",
              "  </thead>\n",
              "  <tbody>\n",
              "    <tr>\n",
              "      <th>0</th>\n",
              "      <td>Lenovo Ideapad S145</td>\n",
              "      <td>Intel Core i5 Processor (10th Gen)</td>\n",
              "      <td>8</td>\n",
              "      <td>64 bit Windows 10 Operating System</td>\n",
              "      <td>100</td>\n",
              "      <td>2</td>\n",
              "      <td>Ultra</td>\n",
              "      <td>39.62 cm (15.6 inch) Display</td>\n",
              "      <td>1 Year Onsite Warranty</td>\n",
              "      <td>45000</td>\n",
              "      <td>3.9</td>\n",
              "    </tr>\n",
              "    <tr>\n",
              "      <th>1</th>\n",
              "      <td>Lenovo Ideapad S23</td>\n",
              "      <td>Intel Core i3 Processor (11th Gen)</td>\n",
              "      <td>8</td>\n",
              "      <td>64 bit Windows 10 Operating System</td>\n",
              "      <td>256</td>\n",
              "      <td>3</td>\n",
              "      <td>BuiltIn</td>\n",
              "      <td>35.56 cm (14 Inch) Display</td>\n",
              "      <td>1 Year Onsite Warranty</td>\n",
              "      <td>48000</td>\n",
              "      <td>4.2</td>\n",
              "    </tr>\n",
              "    <tr>\n",
              "      <th>2</th>\n",
              "      <td>HP Pentium Light lap</td>\n",
              "      <td>Intel Pentium Quad Core Processor</td>\n",
              "      <td>8</td>\n",
              "      <td>64 bit Windows 10 Operating System</td>\n",
              "      <td>256</td>\n",
              "      <td>4</td>\n",
              "      <td>Radeon RX</td>\n",
              "      <td>35.56 cm (14 inch) Display</td>\n",
              "      <td>1 Year Onsite Warranty</td>\n",
              "      <td>55000</td>\n",
              "      <td>4.6</td>\n",
              "    </tr>\n",
              "    <tr>\n",
              "      <th>3</th>\n",
              "      <td>HP 14S Core</td>\n",
              "      <td>Intel Core i3 Processor (11th Gen)</td>\n",
              "      <td>8</td>\n",
              "      <td>64 bit Windows 10 Operating System</td>\n",
              "      <td>256</td>\n",
              "      <td>5</td>\n",
              "      <td>Radeon RX 6600 XT.</td>\n",
              "      <td>35.56 cm (14 inch) Display</td>\n",
              "      <td>1 Year Onsite Warranty</td>\n",
              "      <td>52000</td>\n",
              "      <td>3.5</td>\n",
              "    </tr>\n",
              "    <tr>\n",
              "      <th>4</th>\n",
              "      <td>HP 15s Athlon</td>\n",
              "      <td>AMD Athlon Dual Core Processor</td>\n",
              "      <td>4</td>\n",
              "      <td>64 bit Windows 10 Operating System</td>\n",
              "      <td>100</td>\n",
              "      <td>2</td>\n",
              "      <td>RX 7900 XTX</td>\n",
              "      <td>39.62 cm (15.6 inch) Display</td>\n",
              "      <td>1 Year Onsite Warranty</td>\n",
              "      <td>35000</td>\n",
              "      <td>4.1</td>\n",
              "    </tr>\n",
              "  </tbody>\n",
              "</table>\n",
              "</div>\n",
              "      <button class=\"colab-df-convert\" onclick=\"convertToInteractive('df-d1f385bc-2715-41a7-8fac-7d1e4dae0d6d')\"\n",
              "              title=\"Convert this dataframe to an interactive table.\"\n",
              "              style=\"display:none;\">\n",
              "        \n",
              "  <svg xmlns=\"http://www.w3.org/2000/svg\" height=\"24px\"viewBox=\"0 0 24 24\"\n",
              "       width=\"24px\">\n",
              "    <path d=\"M0 0h24v24H0V0z\" fill=\"none\"/>\n",
              "    <path d=\"M18.56 5.44l.94 2.06.94-2.06 2.06-.94-2.06-.94-.94-2.06-.94 2.06-2.06.94zm-11 1L8.5 8.5l.94-2.06 2.06-.94-2.06-.94L8.5 2.5l-.94 2.06-2.06.94zm10 10l.94 2.06.94-2.06 2.06-.94-2.06-.94-.94-2.06-.94 2.06-2.06.94z\"/><path d=\"M17.41 7.96l-1.37-1.37c-.4-.4-.92-.59-1.43-.59-.52 0-1.04.2-1.43.59L10.3 9.45l-7.72 7.72c-.78.78-.78 2.05 0 2.83L4 21.41c.39.39.9.59 1.41.59.51 0 1.02-.2 1.41-.59l7.78-7.78 2.81-2.81c.8-.78.8-2.07 0-2.86zM5.41 20L4 18.59l7.72-7.72 1.47 1.35L5.41 20z\"/>\n",
              "  </svg>\n",
              "      </button>\n",
              "      \n",
              "  <style>\n",
              "    .colab-df-container {\n",
              "      display:flex;\n",
              "      flex-wrap:wrap;\n",
              "      gap: 12px;\n",
              "    }\n",
              "\n",
              "    .colab-df-convert {\n",
              "      background-color: #E8F0FE;\n",
              "      border: none;\n",
              "      border-radius: 50%;\n",
              "      cursor: pointer;\n",
              "      display: none;\n",
              "      fill: #1967D2;\n",
              "      height: 32px;\n",
              "      padding: 0 0 0 0;\n",
              "      width: 32px;\n",
              "    }\n",
              "\n",
              "    .colab-df-convert:hover {\n",
              "      background-color: #E2EBFA;\n",
              "      box-shadow: 0px 1px 2px rgba(60, 64, 67, 0.3), 0px 1px 3px 1px rgba(60, 64, 67, 0.15);\n",
              "      fill: #174EA6;\n",
              "    }\n",
              "\n",
              "    [theme=dark] .colab-df-convert {\n",
              "      background-color: #3B4455;\n",
              "      fill: #D2E3FC;\n",
              "    }\n",
              "\n",
              "    [theme=dark] .colab-df-convert:hover {\n",
              "      background-color: #434B5C;\n",
              "      box-shadow: 0px 1px 3px 1px rgba(0, 0, 0, 0.15);\n",
              "      filter: drop-shadow(0px 1px 2px rgba(0, 0, 0, 0.3));\n",
              "      fill: #FFFFFF;\n",
              "    }\n",
              "  </style>\n",
              "\n",
              "      <script>\n",
              "        const buttonEl =\n",
              "          document.querySelector('#df-d1f385bc-2715-41a7-8fac-7d1e4dae0d6d button.colab-df-convert');\n",
              "        buttonEl.style.display =\n",
              "          google.colab.kernel.accessAllowed ? 'block' : 'none';\n",
              "\n",
              "        async function convertToInteractive(key) {\n",
              "          const element = document.querySelector('#df-d1f385bc-2715-41a7-8fac-7d1e4dae0d6d');\n",
              "          const dataTable =\n",
              "            await google.colab.kernel.invokeFunction('convertToInteractive',\n",
              "                                                     [key], {});\n",
              "          if (!dataTable) return;\n",
              "\n",
              "          const docLinkHtml = 'Like what you see? Visit the ' +\n",
              "            '<a target=\"_blank\" href=https://colab.research.google.com/notebooks/data_table.ipynb>data table notebook</a>'\n",
              "            + ' to learn more about interactive tables.';\n",
              "          element.innerHTML = '';\n",
              "          dataTable['output_type'] = 'display_data';\n",
              "          await google.colab.output.renderOutput(dataTable, element);\n",
              "          const docLink = document.createElement('div');\n",
              "          docLink.innerHTML = docLinkHtml;\n",
              "          element.appendChild(docLink);\n",
              "        }\n",
              "      </script>\n",
              "    </div>\n",
              "  </div>\n",
              "  "
            ]
          },
          "metadata": {},
          "execution_count": 6
        }
      ]
    },
    {
      "cell_type": "code",
      "metadata": {
        "id": "jWEAJDQhLnUz",
        "colab": {
          "base_uri": "https://localhost:8080/",
          "height": 466
        },
        "outputId": "5734d132-1708-4d68-b00d-aa02ced5702e"
      },
      "source": [
        "\n",
        "\n",
        "sns.countplot(data=data, x = 'Price', label='Count')"
      ],
      "execution_count": null,
      "outputs": [
        {
          "output_type": "execute_result",
          "data": {
            "text/plain": [
              "<Axes: xlabel='Price', ylabel='count'>"
            ]
          },
          "metadata": {},
          "execution_count": 5
        },
        {
          "output_type": "display_data",
          "data": {
            "text/plain": [
              "<Figure size 640x480 with 1 Axes>"
            ],
            "image/png": "[encoded data removed]"
          },
          "metadata": {}
        }
      ]
    },
    {
      "cell_type": "code",
      "metadata": {
        "id": "lkGrZvtoLnU0",
        "colab": {
          "base_uri": "https://localhost:8080/",
          "height": 466
        },
        "outputId": "eec31290-fbad-4cd7-9dac-fb2e691f100b"
      },
      "source": [
        "\n",
        "\n",
        "sns.countplot(data=data, x = 'rating', label='Count')"
      ],
      "execution_count": null,
      "outputs": [
        {
          "output_type": "execute_result",
          "data": {
            "text/plain": [
              "<Axes: xlabel='rating', ylabel='count'>"
            ]
          },
          "metadata": {},
          "execution_count": 17
        },
        {
          "output_type": "display_data",
          "data": {
            "text/plain": [
              "<Figure size 640x480 with 1 Axes>"
            ],
            "image/png": "[encoded data removed]"
          },
          "metadata": {}
        }
      ]
    },
    {
      "cell_type": "code",
      "metadata": {
        "id": "DrXdhxdcLnU1"
      },
      "source": [
        "#3.Analyze the data"
      ],
      "execution_count": null,
      "outputs": []
    },
    {
      "cell_type": "code",
      "metadata": {
        "id": "iDCFAqt0LnU1",
        "colab": {
          "base_uri": "https://localhost:8080/"
        },
        "outputId": "32d5012f-f75d-4e12-b1db-dfc767b9dda1"
      },
      "source": [
        "train,test=train_test_split(data,test_size=0.3)\n",
        "print(train.shape)\n",
        "print(test.shape)"
      ],
      "execution_count": 7,
      "outputs": [
        {
          "output_type": "stream",
          "name": "stdout",
          "text": [
            "(35, 11)\n",
            "(15, 11)\n"
          ]
        }
      ]
    },
    {
      "cell_type": "code",
      "metadata": {
        "id": "1eygKjxsLnU2"
      },
      "source": [
        "#relevant columns"
      ],
      "execution_count": null,
      "outputs": []
    },
    {
      "cell_type": "code",
      "metadata": {
        "id": "2zCaOJ71LnU2",
        "colab": {
          "base_uri": "https://localhost:8080/"
        },
        "outputId": "bf3187ec-42ca-427f-ced5-ed1fcae53e52"
      },
      "source": [
        "data.info()"
      ],
      "execution_count": 8,
      "outputs": [
        {
          "output_type": "stream",
          "name": "stdout",
          "text": [
            "<class 'pandas.core.frame.DataFrame'>\n",
            "RangeIndex: 50 entries, 0 to 49\n",
            "Data columns (total 11 columns):\n",
            " #   Column           Non-Null Count  Dtype  \n",
            "---  ------           --------------  -----  \n",
            " 0   Brand            50 non-null     object \n",
            " 1   Processor        50 non-null     object \n",
            " 2   RAM(GB)          50 non-null     int64  \n",
            " 3   OperatingSystem  50 non-null     object \n",
            " 4   Storage(SSD)     50 non-null     int64  \n",
            " 5   Frequency(Hz)    50 non-null     int64  \n",
            " 6   GraphicsCard     50 non-null     object \n",
            " 7   Display          50 non-null     object \n",
            " 8   Warranty         50 non-null     object \n",
            " 9   Price            50 non-null     int64  \n",
            " 10  rating           50 non-null     float64\n",
            "dtypes: float64(1), int64(4), object(6)\n",
            "memory usage: 4.4+ KB\n"
          ]
        }
      ]
    },
    {
      "cell_type": "code",
      "source": [
        "#----dataset correlation betweend data\n",
        "data.corr()"
      ],
      "metadata": {
        "colab": {
          "base_uri": "https://localhost:8080/",
          "height": 261
        },
        "id": "zU0QYZqQqN8p",
        "outputId": "7928e399-5535-495b-9566-5a30c5335f79"
      },
      "execution_count": null,
      "outputs": [
        {
          "output_type": "stream",
          "name": "stderr",
          "text": [
            "<ipython-input-8-1025c07bd473>:2: FutureWarning: The default value of numeric_only in DataFrame.corr is deprecated. In a future version, it will default to False. Select only valid columns or specify the value of numeric_only to silence this warning.\n",
            "  data.corr()\n"
          ]
        },
        {
          "output_type": "execute_result",
          "data": {
            "text/plain": [
              "                RAM(GB)  Storage(SSD)  Frequency(Hz)     Price    rating\n",
              "RAM(GB)        1.000000     -0.172253      -0.016108  0.124523  0.027350\n",
              "Storage(SSD)  -0.172253      1.000000       0.095714  0.169930 -0.190696\n",
              "Frequency(Hz) -0.016108      0.095714       1.000000  0.295466  0.062994\n",
              "Price          0.124523      0.169930       0.295466  1.000000  0.023747\n",
              "rating         0.027350     -0.190696       0.062994  0.023747  1.000000"
            ],
            "text/html": [
              "\n",
              "  <div id=\"df-28a7288a-d4e3-426f-bb64-890bb3e8aa54\">\n",
              "    <div class=\"colab-df-container\">\n",
              "      <div>\n",
              "<style scoped>\n",
              "    .dataframe tbody tr th:only-of-type {\n",
              "        vertical-align: middle;\n",
              "    }\n",
              "\n",
              "    .dataframe tbody tr th {\n",
              "        vertical-align: top;\n",
              "    }\n",
              "\n",
              "    .dataframe thead th {\n",
              "        text-align: right;\n",
              "    }\n",
              "</style>\n",
              "<table border=\"1\" class=\"dataframe\">\n",
              "  <thead>\n",
              "    <tr style=\"text-align: right;\">\n",
              "      <th></th>\n",
              "      <th>RAM(GB)</th>\n",
              "      <th>Storage(SSD)</th>\n",
              "      <th>Frequency(Hz)</th>\n",
              "      <th>Price</th>\n",
              "      <th>rating</th>\n",
              "    </tr>\n",
              "  </thead>\n",
              "  <tbody>\n",
              "    <tr>\n",
              "      <th>RAM(GB)</th>\n",
              "      <td>1.000000</td>\n",
              "      <td>-0.172253</td>\n",
              "      <td>-0.016108</td>\n",
              "      <td>0.124523</td>\n",
              "      <td>0.027350</td>\n",
              "    </tr>\n",
              "    <tr>\n",
              "      <th>Storage(SSD)</th>\n",
              "      <td>-0.172253</td>\n",
              "      <td>1.000000</td>\n",
              "      <td>0.095714</td>\n",
              "      <td>0.169930</td>\n",
              "      <td>-0.190696</td>\n",
              "    </tr>\n",
              "    <tr>\n",
              "      <th>Frequency(Hz)</th>\n",
              "      <td>-0.016108</td>\n",
              "      <td>0.095714</td>\n",
              "      <td>1.000000</td>\n",
              "      <td>0.295466</td>\n",
              "      <td>0.062994</td>\n",
              "    </tr>\n",
              "    <tr>\n",
              "      <th>Price</th>\n",
              "      <td>0.124523</td>\n",
              "      <td>0.169930</td>\n",
              "      <td>0.295466</td>\n",
              "      <td>1.000000</td>\n",
              "      <td>0.023747</td>\n",
              "    </tr>\n",
              "    <tr>\n",
              "      <th>rating</th>\n",
              "      <td>0.027350</td>\n",
              "      <td>-0.190696</td>\n",
              "      <td>0.062994</td>\n",
              "      <td>0.023747</td>\n",
              "      <td>1.000000</td>\n",
              "    </tr>\n",
              "  </tbody>\n",
              "</table>\n",
              "</div>\n",
              "      <button class=\"colab-df-convert\" onclick=\"convertToInteractive('df-28a7288a-d4e3-426f-bb64-890bb3e8aa54')\"\n",
              "              title=\"Convert this dataframe to an interactive table.\"\n",
              "              style=\"display:none;\">\n",
              "        \n",
              "  <svg xmlns=\"http://www.w3.org/2000/svg\" height=\"24px\"viewBox=\"0 0 24 24\"\n",
              "       width=\"24px\">\n",
              "    <path d=\"M0 0h24v24H0V0z\" fill=\"none\"/>\n",
              "    <path d=\"M18.56 5.44l.94 2.06.94-2.06 2.06-.94-2.06-.94-.94-2.06-.94 2.06-2.06.94zm-11 1L8.5 8.5l.94-2.06 2.06-.94-2.06-.94L8.5 2.5l-.94 2.06-2.06.94zm10 10l.94 2.06.94-2.06 2.06-.94-2.06-.94-.94-2.06-.94 2.06-2.06.94z\"/><path d=\"M17.41 7.96l-1.37-1.37c-.4-.4-.92-.59-1.43-.59-.52 0-1.04.2-1.43.59L10.3 9.45l-7.72 7.72c-.78.78-.78 2.05 0 2.83L4 21.41c.39.39.9.59 1.41.59.51 0 1.02-.2 1.41-.59l7.78-7.78 2.81-2.81c.8-.78.8-2.07 0-2.86zM5.41 20L4 18.59l7.72-7.72 1.47 1.35L5.41 20z\"/>\n",
              "  </svg>\n",
              "      </button>\n",
              "      \n",
              "  <style>\n",
              "    .colab-df-container {\n",
              "      display:flex;\n",
              "      flex-wrap:wrap;\n",
              "      gap: 12px;\n",
              "    }\n",
              "\n",
              "    .colab-df-convert {\n",
              "      background-color: #E8F0FE;\n",
              "      border: none;\n",
              "      border-radius: 50%;\n",
              "      cursor: pointer;\n",
              "      display: none;\n",
              "      fill: #1967D2;\n",
              "      height: 32px;\n",
              "      padding: 0 0 0 0;\n",
              "      width: 32px;\n",
              "    }\n",
              "\n",
              "    .colab-df-convert:hover {\n",
              "      background-color: #E2EBFA;\n",
              "      box-shadow: 0px 1px 2px rgba(60, 64, 67, 0.3), 0px 1px 3px 1px rgba(60, 64, 67, 0.15);\n",
              "      fill: #174EA6;\n",
              "    }\n",
              "\n",
              "    [theme=dark] .colab-df-convert {\n",
              "      background-color: #3B4455;\n",
              "      fill: #D2E3FC;\n",
              "    }\n",
              "\n",
              "    [theme=dark] .colab-df-convert:hover {\n",
              "      background-color: #434B5C;\n",
              "      box-shadow: 0px 1px 3px 1px rgba(0, 0, 0, 0.15);\n",
              "      filter: drop-shadow(0px 1px 2px rgba(0, 0, 0, 0.3));\n",
              "      fill: #FFFFFF;\n",
              "    }\n",
              "  </style>\n",
              "\n",
              "      <script>\n",
              "        const buttonEl =\n",
              "          document.querySelector('#df-28a7288a-d4e3-426f-bb64-890bb3e8aa54 button.colab-df-convert');\n",
              "        buttonEl.style.display =\n",
              "          google.colab.kernel.accessAllowed ? 'block' : 'none';\n",
              "\n",
              "        async function convertToInteractive(key) {\n",
              "          const element = document.querySelector('#df-28a7288a-d4e3-426f-bb64-890bb3e8aa54');\n",
              "          const dataTable =\n",
              "            await google.colab.kernel.invokeFunction('convertToInteractive',\n",
              "                                                     [key], {});\n",
              "          if (!dataTable) return;\n",
              "\n",
              "          const docLinkHtml = 'Like what you see? Visit the ' +\n",
              "            '<a target=\"_blank\" href=https://colab.research.google.com/notebooks/data_table.ipynb>data table notebook</a>'\n",
              "            + ' to learn more about interactive tables.';\n",
              "          element.innerHTML = '';\n",
              "          dataTable['output_type'] = 'display_data';\n",
              "          await google.colab.output.renderOutput(dataTable, element);\n",
              "          const docLink = document.createElement('div');\n",
              "          docLink.innerHTML = docLinkHtml;\n",
              "          element.appendChild(docLink);\n",
              "        }\n",
              "      </script>\n",
              "    </div>\n",
              "  </div>\n",
              "  "
            ]
          },
          "metadata": {},
          "execution_count": 8
        }
      ]
    },
    {
      "cell_type": "code",
      "source": [],
      "metadata": {
        "id": "30L7RarzqgKm"
      },
      "execution_count": null,
      "outputs": []
    },
    {
      "cell_type": "code",
      "metadata": {
        "id": "D5oAVOYaLnU3",
        "colab": {
          "base_uri": "https://localhost:8080/",
          "height": 300
        },
        "outputId": "f8de0aa0-c5c3-4994-e425-caf67181fb3a"
      },
      "source": [
        "data.describe()"
      ],
      "execution_count": null,
      "outputs": [
        {
          "output_type": "execute_result",
          "data": {
            "text/plain": [
              "         RAM(GB)  Storage(SSD)  Frequency(Hz)         Price     rating\n",
              "count  50.000000     50.000000      50.000000     50.000000  50.000000\n",
              "mean    6.880000    351.400000       3.820000  51370.000000   4.024000\n",
              "std     1.814229    185.047705       1.452514  11808.769657   0.717297\n",
              "min     4.000000    100.000000       1.000000  35000.000000   1.500000\n",
              "25%     4.000000    100.000000       3.000000  45000.000000   3.925000\n",
              "50%     8.000000    500.000000       4.000000  52000.000000   4.100000\n",
              "75%     8.000000    512.000000       5.000000  55000.000000   4.400000\n",
              "max     8.000000    512.000000       6.000000  78000.000000   5.000000"
            ],
            "text/html": [
              "\n",
              "  <div id=\"df-055f51f2-4225-459a-95b1-4f761c62ddf5\">\n",
              "    <div class=\"colab-df-container\">\n",
              "      <div>\n",
              "<style scoped>\n",
              "    .dataframe tbody tr th:only-of-type {\n",
              "        vertical-align: middle;\n",
              "    }\n",
              "\n",
              "    .dataframe tbody tr th {\n",
              "        vertical-align: top;\n",
              "    }\n",
              "\n",
              "    .dataframe thead th {\n",
              "        text-align: right;\n",
              "    }\n",
              "</style>\n",
              "<table border=\"1\" class=\"dataframe\">\n",
              "  <thead>\n",
              "    <tr style=\"text-align: right;\">\n",
              "      <th></th>\n",
              "      <th>RAM(GB)</th>\n",
              "      <th>Storage(SSD)</th>\n",
              "      <th>Frequency(Hz)</th>\n",
              "      <th>Price</th>\n",
              "      <th>rating</th>\n",
              "    </tr>\n",
              "  </thead>\n",
              "  <tbody>\n",
              "    <tr>\n",
              "      <th>count</th>\n",
              "      <td>50.000000</td>\n",
              "      <td>50.000000</td>\n",
              "      <td>50.000000</td>\n",
              "      <td>50.000000</td>\n",
              "      <td>50.000000</td>\n",
              "    </tr>\n",
              "    <tr>\n",
              "      <th>mean</th>\n",
              "      <td>6.880000</td>\n",
              "      <td>351.400000</td>\n",
              "      <td>3.820000</td>\n",
              "      <td>51370.000000</td>\n",
              "      <td>4.024000</td>\n",
              "    </tr>\n",
              "    <tr>\n",
              "      <th>std</th>\n",
              "      <td>1.814229</td>\n",
              "      <td>185.047705</td>\n",
              "      <td>1.452514</td>\n",
              "      <td>11808.769657</td>\n",
              "      <td>0.717297</td>\n",
              "    </tr>\n",
              "    <tr>\n",
              "      <th>min</th>\n",
              "      <td>4.000000</td>\n",
              "      <td>100.000000</td>\n",
              "      <td>1.000000</td>\n",
              "      <td>35000.000000</td>\n",
              "      <td>1.500000</td>\n",
              "    </tr>\n",
              "    <tr>\n",
              "      <th>25%</th>\n",
              "      <td>4.000000</td>\n",
              "      <td>100.000000</td>\n",
              "      <td>3.000000</td>\n",
              "      <td>45000.000000</td>\n",
              "      <td>3.925000</td>\n",
              "    </tr>\n",
              "    <tr>\n",
              "      <th>50%</th>\n",
              "      <td>8.000000</td>\n",
              "      <td>500.000000</td>\n",
              "      <td>4.000000</td>\n",
              "      <td>52000.000000</td>\n",
              "      <td>4.100000</td>\n",
              "    </tr>\n",
              "    <tr>\n",
              "      <th>75%</th>\n",
              "      <td>8.000000</td>\n",
              "      <td>512.000000</td>\n",
              "      <td>5.000000</td>\n",
              "      <td>55000.000000</td>\n",
              "      <td>4.400000</td>\n",
              "    </tr>\n",
              "    <tr>\n",
              "      <th>max</th>\n",
              "      <td>8.000000</td>\n",
              "      <td>512.000000</td>\n",
              "      <td>6.000000</td>\n",
              "      <td>78000.000000</td>\n",
              "      <td>5.000000</td>\n",
              "    </tr>\n",
              "  </tbody>\n",
              "</table>\n",
              "</div>\n",
              "      <button class=\"colab-df-convert\" onclick=\"convertToInteractive('df-055f51f2-4225-459a-95b1-4f761c62ddf5')\"\n",
              "              title=\"Convert this dataframe to an interactive table.\"\n",
              "              style=\"display:none;\">\n",
              "        \n",
              "  <svg xmlns=\"http://www.w3.org/2000/svg\" height=\"24px\"viewBox=\"0 0 24 24\"\n",
              "       width=\"24px\">\n",
              "    <path d=\"M0 0h24v24H0V0z\" fill=\"none\"/>\n",
              "    <path d=\"M18.56 5.44l.94 2.06.94-2.06 2.06-.94-2.06-.94-.94-2.06-.94 2.06-2.06.94zm-11 1L8.5 8.5l.94-2.06 2.06-.94-2.06-.94L8.5 2.5l-.94 2.06-2.06.94zm10 10l.94 2.06.94-2.06 2.06-.94-2.06-.94-.94-2.06-.94 2.06-2.06.94z\"/><path d=\"M17.41 7.96l-1.37-1.37c-.4-.4-.92-.59-1.43-.59-.52 0-1.04.2-1.43.59L10.3 9.45l-7.72 7.72c-.78.78-.78 2.05 0 2.83L4 21.41c.39.39.9.59 1.41.59.51 0 1.02-.2 1.41-.59l7.78-7.78 2.81-2.81c.8-.78.8-2.07 0-2.86zM5.41 20L4 18.59l7.72-7.72 1.47 1.35L5.41 20z\"/>\n",
              "  </svg>\n",
              "      </button>\n",
              "      \n",
              "  <style>\n",
              "    .colab-df-container {\n",
              "      display:flex;\n",
              "      flex-wrap:wrap;\n",
              "      gap: 12px;\n",
              "    }\n",
              "\n",
              "    .colab-df-convert {\n",
              "      background-color: #E8F0FE;\n",
              "      border: none;\n",
              "      border-radius: 50%;\n",
              "      cursor: pointer;\n",
              "      display: none;\n",
              "      fill: #1967D2;\n",
              "      height: 32px;\n",
              "      padding: 0 0 0 0;\n",
              "      width: 32px;\n",
              "    }\n",
              "\n",
              "    .colab-df-convert:hover {\n",
              "      background-color: #E2EBFA;\n",
              "      box-shadow: 0px 1px 2px rgba(60, 64, 67, 0.3), 0px 1px 3px 1px rgba(60, 64, 67, 0.15);\n",
              "      fill: #174EA6;\n",
              "    }\n",
              "\n",
              "    [theme=dark] .colab-df-convert {\n",
              "      background-color: #3B4455;\n",
              "      fill: #D2E3FC;\n",
              "    }\n",
              "\n",
              "    [theme=dark] .colab-df-convert:hover {\n",
              "      background-color: #434B5C;\n",
              "      box-shadow: 0px 1px 3px 1px rgba(0, 0, 0, 0.15);\n",
              "      filter: drop-shadow(0px 1px 2px rgba(0, 0, 0, 0.3));\n",
              "      fill: #FFFFFF;\n",
              "    }\n",
              "  </style>\n",
              "\n",
              "      <script>\n",
              "        const buttonEl =\n",
              "          document.querySelector('#df-055f51f2-4225-459a-95b1-4f761c62ddf5 button.colab-df-convert');\n",
              "        buttonEl.style.display =\n",
              "          google.colab.kernel.accessAllowed ? 'block' : 'none';\n",
              "\n",
              "        async function convertToInteractive(key) {\n",
              "          const element = document.querySelector('#df-055f51f2-4225-459a-95b1-4f761c62ddf5');\n",
              "          const dataTable =\n",
              "            await google.colab.kernel.invokeFunction('convertToInteractive',\n",
              "                                                     [key], {});\n",
              "          if (!dataTable) return;\n",
              "\n",
              "          const docLinkHtml = 'Like what you see? Visit the ' +\n",
              "            '<a target=\"_blank\" href=https://colab.research.google.com/notebooks/data_table.ipynb>data table notebook</a>'\n",
              "            + ' to learn more about interactive tables.';\n",
              "          element.innerHTML = '';\n",
              "          dataTable['output_type'] = 'display_data';\n",
              "          await google.colab.output.renderOutput(dataTable, element);\n",
              "          const docLink = document.createElement('div');\n",
              "          docLink.innerHTML = docLinkHtml;\n",
              "          element.appendChild(docLink);\n",
              "        }\n",
              "      </script>\n",
              "    </div>\n",
              "  </div>\n",
              "  "
            ]
          },
          "metadata": {},
          "execution_count": 9
        }
      ]
    },
    {
      "cell_type": "code",
      "metadata": {
        "id": "rKy_hZiDLnU3",
        "colab": {
          "base_uri": "https://localhost:8080/",
          "height": 337
        },
        "outputId": "2f1f23c8-e0c8-41bf-bc51-65b8e9947896"
      },
      "source": [
        "data.head()"
      ],
      "execution_count": null,
      "outputs": [
        {
          "output_type": "execute_result",
          "data": {
            "text/plain": [
              "                  Brand                           Processor  RAM(GB)  \\\n",
              "0  Lenovo Ideapad S145   Intel Core i5 Processor (10th Gen)        8   \n",
              "1    Lenovo Ideapad S23  Intel Core i3 Processor (11th Gen)        8   \n",
              "2  HP Pentium Light lap   Intel Pentium Quad Core Processor        8   \n",
              "3           HP 14S Core  Intel Core i3 Processor (11th Gen)        8   \n",
              "4        HP 15s Athlon       AMD Athlon Dual Core Processor        4   \n",
              "\n",
              "                      OperatingSystem  Storage(SSD)  Frequency(Hz)  \\\n",
              "0  64 bit Windows 10 Operating System           100              2   \n",
              "1  64 bit Windows 10 Operating System           256              3   \n",
              "2  64 bit Windows 10 Operating System           256              4   \n",
              "3  64 bit Windows 10 Operating System           256              5   \n",
              "4  64 bit Windows 10 Operating System           100              2   \n",
              "\n",
              "         GraphicsCard                       Display                Warranty  \\\n",
              "0               Ultra  39.62 cm (15.6 inch) Display  1 Year Onsite Warranty   \n",
              "1             BuiltIn    35.56 cm (14 Inch) Display  1 Year Onsite Warranty   \n",
              "2           Radeon RX    35.56 cm (14 inch) Display  1 Year Onsite Warranty   \n",
              "3  Radeon RX 6600 XT.    35.56 cm (14 inch) Display  1 Year Onsite Warranty   \n",
              "4         RX 7900 XTX  39.62 cm (15.6 inch) Display  1 Year Onsite Warranty   \n",
              "\n",
              "   Price  rating  \n",
              "0  45000     3.9  \n",
              "1  48000     4.2  \n",
              "2  55000     4.6  \n",
              "3  52000     3.5  \n",
              "4  35000     4.1  "
            ],
            "text/html": [
              "\n",
              "  <div id=\"df-eed3002c-62c2-4ce1-9b93-86ff1bcf07f6\">\n",
              "    <div class=\"colab-df-container\">\n",
              "      <div>\n",
              "<style scoped>\n",
              "    .dataframe tbody tr th:only-of-type {\n",
              "        vertical-align: middle;\n",
              "    }\n",
              "\n",
              "    .dataframe tbody tr th {\n",
              "        vertical-align: top;\n",
              "    }\n",
              "\n",
              "    .dataframe thead th {\n",
              "        text-align: right;\n",
              "    }\n",
              "</style>\n",
              "<table border=\"1\" class=\"dataframe\">\n",
              "  <thead>\n",
              "    <tr style=\"text-align: right;\">\n",
              "      <th></th>\n",
              "      <th>Brand</th>\n",
              "      <th>Processor</th>\n",
              "      <th>RAM(GB)</th>\n",
              "      <th>OperatingSystem</th>\n",
              "      <th>Storage(SSD)</th>\n",
              "      <th>Frequency(Hz)</th>\n",
              "      <th>GraphicsCard</th>\n",
              "      <th>Display</th>\n",
              "      <th>Warranty</th>\n",
              "      <th>Price</th>\n",
              "      <th>rating</th>\n",
              "    </tr>\n",
              "  </thead>\n",
              "  <tbody>\n",
              "    <tr>\n",
              "      <th>0</th>\n",
              "      <td>Lenovo Ideapad S145</td>\n",
              "      <td>Intel Core i5 Processor (10th Gen)</td>\n",
              "      <td>8</td>\n",
              "      <td>64 bit Windows 10 Operating System</td>\n",
              "      <td>100</td>\n",
              "      <td>2</td>\n",
              "      <td>Ultra</td>\n",
              "      <td>39.62 cm (15.6 inch) Display</td>\n",
              "      <td>1 Year Onsite Warranty</td>\n",
              "      <td>45000</td>\n",
              "      <td>3.9</td>\n",
              "    </tr>\n",
              "    <tr>\n",
              "      <th>1</th>\n",
              "      <td>Lenovo Ideapad S23</td>\n",
              "      <td>Intel Core i3 Processor (11th Gen)</td>\n",
              "      <td>8</td>\n",
              "      <td>64 bit Windows 10 Operating System</td>\n",
              "      <td>256</td>\n",
              "      <td>3</td>\n",
              "      <td>BuiltIn</td>\n",
              "      <td>35.56 cm (14 Inch) Display</td>\n",
              "      <td>1 Year Onsite Warranty</td>\n",
              "      <td>48000</td>\n",
              "      <td>4.2</td>\n",
              "    </tr>\n",
              "    <tr>\n",
              "      <th>2</th>\n",
              "      <td>HP Pentium Light lap</td>\n",
              "      <td>Intel Pentium Quad Core Processor</td>\n",
              "      <td>8</td>\n",
              "      <td>64 bit Windows 10 Operating System</td>\n",
              "      <td>256</td>\n",
              "      <td>4</td>\n",
              "      <td>Radeon RX</td>\n",
              "      <td>35.56 cm (14 inch) Display</td>\n",
              "      <td>1 Year Onsite Warranty</td>\n",
              "      <td>55000</td>\n",
              "      <td>4.6</td>\n",
              "    </tr>\n",
              "    <tr>\n",
              "      <th>3</th>\n",
              "      <td>HP 14S Core</td>\n",
              "      <td>Intel Core i3 Processor (11th Gen)</td>\n",
              "      <td>8</td>\n",
              "      <td>64 bit Windows 10 Operating System</td>\n",
              "      <td>256</td>\n",
              "      <td>5</td>\n",
              "      <td>Radeon RX 6600 XT.</td>\n",
              "      <td>35.56 cm (14 inch) Display</td>\n",
              "      <td>1 Year Onsite Warranty</td>\n",
              "      <td>52000</td>\n",
              "      <td>3.5</td>\n",
              "    </tr>\n",
              "    <tr>\n",
              "      <th>4</th>\n",
              "      <td>HP 15s Athlon</td>\n",
              "      <td>AMD Athlon Dual Core Processor</td>\n",
              "      <td>4</td>\n",
              "      <td>64 bit Windows 10 Operating System</td>\n",
              "      <td>100</td>\n",
              "      <td>2</td>\n",
              "      <td>RX 7900 XTX</td>\n",
              "      <td>39.62 cm (15.6 inch) Display</td>\n",
              "      <td>1 Year Onsite Warranty</td>\n",
              "      <td>35000</td>\n",
              "      <td>4.1</td>\n",
              "    </tr>\n",
              "  </tbody>\n",
              "</table>\n",
              "</div>\n",
              "      <button class=\"colab-df-convert\" onclick=\"convertToInteractive('df-eed3002c-62c2-4ce1-9b93-86ff1bcf07f6')\"\n",
              "              title=\"Convert this dataframe to an interactive table.\"\n",
              "              style=\"display:none;\">\n",
              "        \n",
              "  <svg xmlns=\"http://www.w3.org/2000/svg\" height=\"24px\"viewBox=\"0 0 24 24\"\n",
              "       width=\"24px\">\n",
              "    <path d=\"M0 0h24v24H0V0z\" fill=\"none\"/>\n",
              "    <path d=\"M18.56 5.44l.94 2.06.94-2.06 2.06-.94-2.06-.94-.94-2.06-.94 2.06-2.06.94zm-11 1L8.5 8.5l.94-2.06 2.06-.94-2.06-.94L8.5 2.5l-.94 2.06-2.06.94zm10 10l.94 2.06.94-2.06 2.06-.94-2.06-.94-.94-2.06-.94 2.06-2.06.94z\"/><path d=\"M17.41 7.96l-1.37-1.37c-.4-.4-.92-.59-1.43-.59-.52 0-1.04.2-1.43.59L10.3 9.45l-7.72 7.72c-.78.78-.78 2.05 0 2.83L4 21.41c.39.39.9.59 1.41.59.51 0 1.02-.2 1.41-.59l7.78-7.78 2.81-2.81c.8-.78.8-2.07 0-2.86zM5.41 20L4 18.59l7.72-7.72 1.47 1.35L5.41 20z\"/>\n",
              "  </svg>\n",
              "      </button>\n",
              "      \n",
              "  <style>\n",
              "    .colab-df-container {\n",
              "      display:flex;\n",
              "      flex-wrap:wrap;\n",
              "      gap: 12px;\n",
              "    }\n",
              "\n",
              "    .colab-df-convert {\n",
              "      background-color: #E8F0FE;\n",
              "      border: none;\n",
              "      border-radius: 50%;\n",
              "      cursor: pointer;\n",
              "      display: none;\n",
              "      fill: #1967D2;\n",
              "      height: 32px;\n",
              "      padding: 0 0 0 0;\n",
              "      width: 32px;\n",
              "    }\n",
              "\n",
              "    .colab-df-convert:hover {\n",
              "      background-color: #E2EBFA;\n",
              "      box-shadow: 0px 1px 2px rgba(60, 64, 67, 0.3), 0px 1px 3px 1px rgba(60, 64, 67, 0.15);\n",
              "      fill: #174EA6;\n",
              "    }\n",
              "\n",
              "    [theme=dark] .colab-df-convert {\n",
              "      background-color: #3B4455;\n",
              "      fill: #D2E3FC;\n",
              "    }\n",
              "\n",
              "    [theme=dark] .colab-df-convert:hover {\n",
              "      background-color: #434B5C;\n",
              "      box-shadow: 0px 1px 3px 1px rgba(0, 0, 0, 0.15);\n",
              "      filter: drop-shadow(0px 1px 2px rgba(0, 0, 0, 0.3));\n",
              "      fill: #FFFFFF;\n",
              "    }\n",
              "  </style>\n",
              "\n",
              "      <script>\n",
              "        const buttonEl =\n",
              "          document.querySelector('#df-eed3002c-62c2-4ce1-9b93-86ff1bcf07f6 button.colab-df-convert');\n",
              "        buttonEl.style.display =\n",
              "          google.colab.kernel.accessAllowed ? 'block' : 'none';\n",
              "\n",
              "        async function convertToInteractive(key) {\n",
              "          const element = document.querySelector('#df-eed3002c-62c2-4ce1-9b93-86ff1bcf07f6');\n",
              "          const dataTable =\n",
              "            await google.colab.kernel.invokeFunction('convertToInteractive',\n",
              "                                                     [key], {});\n",
              "          if (!dataTable) return;\n",
              "\n",
              "          const docLinkHtml = 'Like what you see? Visit the ' +\n",
              "            '<a target=\"_blank\" href=https://colab.research.google.com/notebooks/data_table.ipynb>data table notebook</a>'\n",
              "            + ' to learn more about interactive tables.';\n",
              "          element.innerHTML = '';\n",
              "          dataTable['output_type'] = 'display_data';\n",
              "          await google.colab.output.renderOutput(dataTable, element);\n",
              "          const docLink = document.createElement('div');\n",
              "          docLink.innerHTML = docLinkHtml;\n",
              "          element.appendChild(docLink);\n",
              "        }\n",
              "      </script>\n",
              "    </div>\n",
              "  </div>\n",
              "  "
            ]
          },
          "metadata": {},
          "execution_count": 10
        }
      ]
    },
    {
      "cell_type": "code",
      "source": [
        "plt.figure(figsize=(16,10))\n",
        "sns.heatmap(data.corr(), annot=True,cmap ='RdYlGn')"
      ],
      "metadata": {
        "colab": {
          "base_uri": "https://localhost:8080/",
          "height": 908
        },
        "id": "SMkPRqJwqozX",
        "outputId": "9cc73a1f-ac97-44a8-bf0c-71d5afa1559d"
      },
      "execution_count": null,
      "outputs": [
        {
          "output_type": "stream",
          "name": "stderr",
          "text": [
            "<ipython-input-11-b52c6d629e48>:2: FutureWarning: The default value of numeric_only in DataFrame.corr is deprecated. In a future version, it will default to False. Select only valid columns or specify the value of numeric_only to silence this warning.\n",
            "  sns.heatmap(data.corr(), annot=True,cmap ='RdYlGn')\n"
          ]
        },
        {
          "output_type": "execute_result",
          "data": {
            "text/plain": [
              "<Axes: >"
            ]
          },
          "metadata": {},
          "execution_count": 11
        },
        {
          "output_type": "display_data",
          "data": {
            "text/plain": [
              "<Figure size 1600x1000 with 2 Axes>"
            ],
            "image/png": "[encoded data removed]"
          },
          "metadata": {}
        }
      ]
    },
    {
      "cell_type": "code",
      "metadata": {
        "id": "GZ3y0fEaLnU3"
      },
      "source": [
        "from sklearn import preprocessing\n",
        "from sklearn import utils\n",
        "\n",
        "lab_enc = preprocessing.LabelEncoder()\n",
        "rating = lab_enc.fit_transform(data['rating'])"
      ],
      "execution_count": 9,
      "outputs": []
    },
    {
      "cell_type": "code",
      "source": [
        "prediction_var=['Price', 'rating','RAM(GB)','Storage(SSD)','Frequency(Hz)']\n"
      ],
      "metadata": {
        "id": "FqhG3qZ6Qf1O"
      },
      "execution_count": 10,
      "outputs": []
    },
    {
      "cell_type": "code",
      "metadata": {
        "id": "17K6PfQyLnU4",
        "colab": {
          "base_uri": "https://localhost:8080/"
        },
        "outputId": "324dfa30-6655-4476-c848-1103eabb90fa"
      },
      "source": [
        "prediction_var"
      ],
      "execution_count": 11,
      "outputs": [
        {
          "output_type": "execute_result",
          "data": {
            "text/plain": [
              "['Price', 'rating', 'RAM(GB)', 'Storage(SSD)', 'Frequency(Hz)']"
            ]
          },
          "metadata": {},
          "execution_count": 11
        }
      ]
    },
    {
      "cell_type": "code",
      "metadata": {
        "id": "1lJmj7VvLnU4",
        "colab": {
          "base_uri": "https://localhost:8080/",
          "height": 434
        },
        "outputId": "b7bf2965-2714-4c1f-c9c5-e0a5ca15e054"
      },
      "source": [
        "plt.plot(data['Price'])\n",
        "plt.show()"
      ],
      "execution_count": null,
      "outputs": [
        {
          "output_type": "display_data",
          "data": {
            "text/plain": [
              "<Figure size 640x480 with 1 Axes>"
            ],
            "image/png": "[encoded data removed]"
          },
          "metadata": {}
        }
      ]
    },
    {
      "cell_type": "code",
      "metadata": {
        "id": "1u7iK2pULnU5",
        "colab": {
          "base_uri": "https://localhost:8080/",
          "height": 430
        },
        "outputId": "4c3a9e23-645e-4ab8-def1-bc9886f47922"
      },
      "source": [
        "plt.plot(data['rating'])\n",
        "plt.show()"
      ],
      "execution_count": null,
      "outputs": [
        {
          "output_type": "display_data",
          "data": {
            "text/plain": [
              "<Figure size 640x480 with 1 Axes>"
            ],
            "image/png": "[encoded data removed]"
          },
          "metadata": {}
        }
      ]
    },
    {
      "cell_type": "code",
      "metadata": {
        "id": "H3rxbD8aLnU6",
        "colab": {
          "base_uri": "https://localhost:8080/",
          "height": 430
        },
        "outputId": "6eab117e-7da4-48c3-e60e-9e3933740471"
      },
      "source": [
        "plt.scatter(data['Price'],data['rating'])\n",
        "plt.show()"
      ],
      "execution_count": null,
      "outputs": [
        {
          "output_type": "display_data",
          "data": {
            "text/plain": [
              "<Figure size 640x480 with 1 Axes>"
            ],
            "image/png": "[encoded data removed]"
          },
          "metadata": {}
        }
      ]
    },
    {
      "cell_type": "code",
      "source": [
        "#---create ensemble moon split\n",
        "laptop_data=data.size\n",
        "X, y = make_moons(n_samples=laptop_data, noise=0.30)"
      ],
      "metadata": {
        "id": "0INNyNBLhVrU"
      },
      "execution_count": 12,
      "outputs": []
    },
    {
      "cell_type": "code",
      "source": [
        "#----Apply ensemble Voting \n",
        "X_train, X_test, y_train, y_test = train_test_split(X, y)"
      ],
      "metadata": {
        "id": "QftitgAkhd2C"
      },
      "execution_count": 13,
      "outputs": []
    },
    {
      "cell_type": "code",
      "source": [
        "from sklearn.naive_bayes import GaussianNB\n",
        "log = LogisticRegression()\n",
        "rnd = RandomForestClassifier(n_estimators=3)\n",
        "GB = GaussianNB()\n",
        "\n"
      ],
      "metadata": {
        "id": "2jsO2OQohgQC"
      },
      "execution_count": 15,
      "outputs": []
    },
    {
      "cell_type": "code",
      "source": [
        "voting = VotingClassifier(\n",
        "    estimators=[('logistics_regression', log), ('random_forest', rnd), ('GaussianNB', GB)],\n",
        "    voting='hard')\n",
        "voting.fit(X_train, y_train)"
      ],
      "metadata": {
        "colab": {
          "base_uri": "https://localhost:8080/",
          "height": 110
        },
        "id": "pPjROa4bhuuk",
        "outputId": "3fe35f60-aa65-488c-8cdd-1db79d9854dd"
      },
      "execution_count": 16,
      "outputs": [
        {
          "output_type": "execute_result",
          "data": {
            "text/plain": [
              "VotingClassifier(estimators=[('logistics_regression', LogisticRegression()),\n",
              "                             ('random_forest',\n",
              "                              RandomForestClassifier(n_estimators=3)),\n",
              "                             ('GaussianNB', GaussianNB())])"
            ],
            "text/html": [
              "<style>#sk-container-id-1 {color: black;background-color: white;}#sk-container-id-1 pre{padding: 0;}#sk-container-id-1 div.sk-toggleable {background-color: white;}#sk-container-id-1 label.sk-toggleable__label {cursor: pointer;display: block;width: 100%;margin-bottom: 0;padding: 0.3em;box-sizing: border-box;text-align: center;}#sk-container-id-1 label.sk-toggleable__label-arrow:before {content: \"▸\";float: left;margin-right: 0.25em;color: #696969;}#sk-container-id-1 label.sk-toggleable__label-arrow:hover:before {color: black;}#sk-container-id-1 div.sk-estimator:hover label.sk-toggleable__label-arrow:before {color: black;}#sk-container-id-1 div.sk-toggleable__content {max-height: 0;max-width: 0;overflow: hidden;text-align: left;background-color: #f0f8ff;}#sk-container-id-1 div.sk-toggleable__content pre {margin: 0.2em;color: black;border-radius: 0.25em;background-color: #f0f8ff;}#sk-container-id-1 input.sk-toggleable__control:checked~div.sk-toggleable__content {max-height: 200px;max-width: 100%;overflow: auto;}#sk-container-id-1 input.sk-toggleable__control:checked~label.sk-toggleable__label-arrow:before {content: \"▾\";}#sk-container-id-1 div.sk-estimator input.sk-toggleable__control:checked~label.sk-toggleable__label {background-color: #d4ebff;}#sk-container-id-1 div.sk-label input.sk-toggleable__control:checked~label.sk-toggleable__label {background-color: #d4ebff;}#sk-container-id-1 input.sk-hidden--visually {border: 0;clip: rect(1px 1px 1px 1px);clip: rect(1px, 1px, 1px, 1px);height: 1px;margin: -1px;overflow: hidden;padding: 0;position: absolute;width: 1px;}#sk-container-id-1 div.sk-estimator {font-family: monospace;background-color: #f0f8ff;border: 1px dotted black;border-radius: 0.25em;box-sizing: border-box;margin-bottom: 0.5em;}#sk-container-id-1 div.sk-estimator:hover {background-color: #d4ebff;}#sk-container-id-1 div.sk-parallel-item::after {content: \"\";width: 100%;border-bottom: 1px solid gray;flex-grow: 1;}#sk-container-id-1 div.sk-label:hover label.sk-toggleable__label {background-color: #d4ebff;}#sk-container-id-1 div.sk-serial::before {content: \"\";position: absolute;border-left: 1px solid gray;box-sizing: border-box;top: 0;bottom: 0;left: 50%;z-index: 0;}#sk-container-id-1 div.sk-serial {display: flex;flex-direction: column;align-items: center;background-color: white;padding-right: 0.2em;padding-left: 0.2em;position: relative;}#sk-container-id-1 div.sk-item {position: relative;z-index: 1;}#sk-container-id-1 div.sk-parallel {display: flex;align-items: stretch;justify-content: center;background-color: white;position: relative;}#sk-container-id-1 div.sk-item::before, #sk-container-id-1 div.sk-parallel-item::before {content: \"\";position: absolute;border-left: 1px solid gray;box-sizing: border-box;top: 0;bottom: 0;left: 50%;z-index: -1;}#sk-container-id-1 div.sk-parallel-item {display: flex;flex-direction: column;z-index: 1;position: relative;background-color: white;}#sk-container-id-1 div.sk-parallel-item:first-child::after {align-self: flex-end;width: 50%;}#sk-container-id-1 div.sk-parallel-item:last-child::after {align-self: flex-start;width: 50%;}#sk-container-id-1 div.sk-parallel-item:only-child::after {width: 0;}#sk-container-id-1 div.sk-dashed-wrapped {border: 1px dashed gray;margin: 0 0.4em 0.5em 0.4em;box-sizing: border-box;padding-bottom: 0.4em;background-color: white;}#sk-container-id-1 div.sk-label label {font-family: monospace;font-weight: bold;display: inline-block;line-height: 1.2em;}#sk-container-id-1 div.sk-label-container {text-align: center;}#sk-container-id-1 div.sk-container {/* jupyter's `normalize.less` sets `[hidden] { display: none; }` but bootstrap.min.css set `[hidden] { display: none !important; }` so we also need the `!important` here to be able to override the default hidden behavior on the sphinx rendered scikit-learn.org. See: https://github.com/scikit-learn/scikit-learn/issues/21755 */display: inline-block !important;position: relative;}#sk-container-id-1 div.sk-text-repr-fallback {display: none;}</style><div id=\"sk-container-id-1\" class=\"sk-top-container\"><div class=\"sk-text-repr-fallback\"><pre>VotingClassifier(estimators=[(&#x27;logistics_regression&#x27;, LogisticRegression()),\n",
              "                             (&#x27;random_forest&#x27;,\n",
              "                              RandomForestClassifier(n_estimators=3)),\n",
              "                             (&#x27;GaussianNB&#x27;, GaussianNB())])</pre><b>In a Jupyter environment, please rerun this cell to show the HTML representation or trust the notebook. <br />On GitHub, the HTML representation is unable to render, please try loading this page with nbviewer.org.</b></div><div class=\"sk-container\" hidden><div class=\"sk-item sk-dashed-wrapped\"><div class=\"sk-label-container\"><div class=\"sk-label sk-toggleable\"><input class=\"sk-toggleable__control sk-hidden--visually\" id=\"sk-estimator-id-1\" type=\"checkbox\" ><label for=\"sk-estimator-id-1\" class=\"sk-toggleable__label sk-toggleable__label-arrow\">VotingClassifier</label><div class=\"sk-toggleable__content\"><pre>VotingClassifier(estimators=[(&#x27;logistics_regression&#x27;, LogisticRegression()),\n",
              "                             (&#x27;random_forest&#x27;,\n",
              "                              RandomForestClassifier(n_estimators=3)),\n",
              "                             (&#x27;GaussianNB&#x27;, GaussianNB())])</pre></div></div></div><div class=\"sk-parallel\"><div class=\"sk-parallel-item\"><div class=\"sk-item\"><div class=\"sk-label-container\"><div class=\"sk-label sk-toggleable\"><label>logistics_regression</label></div></div><div class=\"sk-serial\"><div class=\"sk-item\"><div class=\"sk-estimator sk-toggleable\"><input class=\"sk-toggleable__control sk-hidden--visually\" id=\"sk-estimator-id-2\" type=\"checkbox\" ><label for=\"sk-estimator-id-2\" class=\"sk-toggleable__label sk-toggleable__label-arrow\">LogisticRegression</label><div class=\"sk-toggleable__content\"><pre>LogisticRegression()</pre></div></div></div></div></div></div><div class=\"sk-parallel-item\"><div class=\"sk-item\"><div class=\"sk-label-container\"><div class=\"sk-label sk-toggleable\"><label>random_forest</label></div></div><div class=\"sk-serial\"><div class=\"sk-item\"><div class=\"sk-estimator sk-toggleable\"><input class=\"sk-toggleable__control sk-hidden--visually\" id=\"sk-estimator-id-3\" type=\"checkbox\" ><label for=\"sk-estimator-id-3\" class=\"sk-toggleable__label sk-toggleable__label-arrow\">RandomForestClassifier</label><div class=\"sk-toggleable__content\"><pre>RandomForestClassifier(n_estimators=3)</pre></div></div></div></div></div></div><div class=\"sk-parallel-item\"><div class=\"sk-item\"><div class=\"sk-label-container\"><div class=\"sk-label sk-toggleable\"><label>GaussianNB</label></div></div><div class=\"sk-serial\"><div class=\"sk-item\"><div class=\"sk-estimator sk-toggleable\"><input class=\"sk-toggleable__control sk-hidden--visually\" id=\"sk-estimator-id-4\" type=\"checkbox\" ><label for=\"sk-estimator-id-4\" class=\"sk-toggleable__label sk-toggleable__label-arrow\">GaussianNB</label><div class=\"sk-toggleable__content\"><pre>GaussianNB()</pre></div></div></div></div></div></div></div></div></div></div>"
            ]
          },
          "metadata": {},
          "execution_count": 16
        }
      ]
    },
    {
      "cell_type": "code",
      "source": [],
      "metadata": {
        "id": "m9mlsLUth_Vo"
      },
      "execution_count": null,
      "outputs": []
    },
    {
      "cell_type": "code",
      "metadata": {
        "id": "P8kuNydXLnU8"
      },
      "source": [
        "#TRAINING DATA\n",
        "#input training data for price\n",
        "train_X=train[prediction_var]\n",
        "#output training data\n",
        "train_Y=train['Price']"
      ],
      "execution_count": 17,
      "outputs": []
    },
    {
      "cell_type": "code",
      "metadata": {
        "id": "FP9IrAV1LnU8"
      },
      "source": [
        "#input training data for rating\n",
        "train_X=train[prediction_var]\n",
        "#output training data\n",
        "train_Y1=train['rating']"
      ],
      "execution_count": 18,
      "outputs": []
    },
    {
      "cell_type": "code",
      "metadata": {
        "id": "V_iGIZPRLnU9"
      },
      "source": [
        "#input training data \n",
        "train_X=train[prediction_var]\n",
        "#output training data\n",
        "train_Z=train['RAM(GB)']"
      ],
      "execution_count": 19,
      "outputs": []
    },
    {
      "cell_type": "code",
      "metadata": {
        "id": "tH1_986xLnU9"
      },
      "source": [
        "#TESTING DATA\n",
        "#same steps for testing data\n",
        "#input testing data \n",
        "test_X=test[prediction_var]\n",
        "#output testing data\n",
        "test_Y=test['Frequency(Hz)']"
      ],
      "execution_count": 20,
      "outputs": []
    },
    {
      "cell_type": "code",
      "metadata": {
        "id": "ZYX51z-yLnU9"
      },
      "source": [
        "#same steps for testing data\n",
        "#input testing data \n",
        "test_X=test[prediction_var]\n",
        "\n",
        "\n",
        "#output testing data\n",
        "lab_enc = preprocessing.LabelEncoder()\n",
        "rating = lab_enc.fit_transform(data['rating'])\n",
        "\n",
        "test_Y1=test['rating']"
      ],
      "execution_count": 21,
      "outputs": []
    },
    {
      "cell_type": "code",
      "metadata": {
        "id": "410pTz62LnU-"
      },
      "source": [
        "#same steps for testing data \n",
        "#input testing data \n",
        "test_X=test[prediction_var]\n",
        "#output testing data\n",
        "test_Z=test['Price']"
      ],
      "execution_count": 22,
      "outputs": []
    },
    {
      "cell_type": "code",
      "metadata": {
        "id": "5VhyxEh8LnU-",
        "colab": {
          "base_uri": "https://localhost:8080/",
          "height": 214
        },
        "outputId": "a5706513-c2f4-4973-b817-9e58d0cf9d23"
      },
      "source": [
        "#Training the model \n",
        "\n",
        "logistic_model=LogisticRegression()\n",
        "logistic_model.fit(train_X,train_Y)"
      ],
      "execution_count": 23,
      "outputs": [
        {
          "output_type": "stream",
          "name": "stderr",
          "text": [
            "/usr/local/lib/python3.9/dist-packages/sklearn/linear_model/_logistic.py:458: ConvergenceWarning: lbfgs failed to converge (status=1):\n",
            "STOP: TOTAL NO. of ITERATIONS REACHED LIMIT.\n",
            "\n",
            "Increase the number of iterations (max_iter) or scale the data as shown in:\n",
            "    https://scikit-learn.org/stable/modules/preprocessing.html\n",
            "Please also refer to the documentation for alternative solver options:\n",
            "    https://scikit-learn.org/stable/modules/linear_model.html#logistic-regression\n",
            "  n_iter_i = _check_optimize_result(\n"
          ]
        },
        {
          "output_type": "execute_result",
          "data": {
            "text/plain": [
              "LogisticRegression()"
            ],
            "text/html": [
              "<style>#sk-container-id-2 {color: black;background-color: white;}#sk-container-id-2 pre{padding: 0;}#sk-container-id-2 div.sk-toggleable {background-color: white;}#sk-container-id-2 label.sk-toggleable__label {cursor: pointer;display: block;width: 100%;margin-bottom: 0;padding: 0.3em;box-sizing: border-box;text-align: center;}#sk-container-id-2 label.sk-toggleable__label-arrow:before {content: \"▸\";float: left;margin-right: 0.25em;color: #696969;}#sk-container-id-2 label.sk-toggleable__label-arrow:hover:before {color: black;}#sk-container-id-2 div.sk-estimator:hover label.sk-toggleable__label-arrow:before {color: black;}#sk-container-id-2 div.sk-toggleable__content {max-height: 0;max-width: 0;overflow: hidden;text-align: left;background-color: #f0f8ff;}#sk-container-id-2 div.sk-toggleable__content pre {margin: 0.2em;color: black;border-radius: 0.25em;background-color: #f0f8ff;}#sk-container-id-2 input.sk-toggleable__control:checked~div.sk-toggleable__content {max-height: 200px;max-width: 100%;overflow: auto;}#sk-container-id-2 input.sk-toggleable__control:checked~label.sk-toggleable__label-arrow:before {content: \"▾\";}#sk-container-id-2 div.sk-estimator input.sk-toggleable__control:checked~label.sk-toggleable__label {background-color: #d4ebff;}#sk-container-id-2 div.sk-label input.sk-toggleable__control:checked~label.sk-toggleable__label {background-color: #d4ebff;}#sk-container-id-2 input.sk-hidden--visually {border: 0;clip: rect(1px 1px 1px 1px);clip: rect(1px, 1px, 1px, 1px);height: 1px;margin: -1px;overflow: hidden;padding: 0;position: absolute;width: 1px;}#sk-container-id-2 div.sk-estimator {font-family: monospace;background-color: #f0f8ff;border: 1px dotted black;border-radius: 0.25em;box-sizing: border-box;margin-bottom: 0.5em;}#sk-container-id-2 div.sk-estimator:hover {background-color: #d4ebff;}#sk-container-id-2 div.sk-parallel-item::after {content: \"\";width: 100%;border-bottom: 1px solid gray;flex-grow: 1;}#sk-container-id-2 div.sk-label:hover label.sk-toggleable__label {background-color: #d4ebff;}#sk-container-id-2 div.sk-serial::before {content: \"\";position: absolute;border-left: 1px solid gray;box-sizing: border-box;top: 0;bottom: 0;left: 50%;z-index: 0;}#sk-container-id-2 div.sk-serial {display: flex;flex-direction: column;align-items: center;background-color: white;padding-right: 0.2em;padding-left: 0.2em;position: relative;}#sk-container-id-2 div.sk-item {position: relative;z-index: 1;}#sk-container-id-2 div.sk-parallel {display: flex;align-items: stretch;justify-content: center;background-color: white;position: relative;}#sk-container-id-2 div.sk-item::before, #sk-container-id-2 div.sk-parallel-item::before {content: \"\";position: absolute;border-left: 1px solid gray;box-sizing: border-box;top: 0;bottom: 0;left: 50%;z-index: -1;}#sk-container-id-2 div.sk-parallel-item {display: flex;flex-direction: column;z-index: 1;position: relative;background-color: white;}#sk-container-id-2 div.sk-parallel-item:first-child::after {align-self: flex-end;width: 50%;}#sk-container-id-2 div.sk-parallel-item:last-child::after {align-self: flex-start;width: 50%;}#sk-container-id-2 div.sk-parallel-item:only-child::after {width: 0;}#sk-container-id-2 div.sk-dashed-wrapped {border: 1px dashed gray;margin: 0 0.4em 0.5em 0.4em;box-sizing: border-box;padding-bottom: 0.4em;background-color: white;}#sk-container-id-2 div.sk-label label {font-family: monospace;font-weight: bold;display: inline-block;line-height: 1.2em;}#sk-container-id-2 div.sk-label-container {text-align: center;}#sk-container-id-2 div.sk-container {/* jupyter's `normalize.less` sets `[hidden] { display: none; }` but bootstrap.min.css set `[hidden] { display: none !important; }` so we also need the `!important` here to be able to override the default hidden behavior on the sphinx rendered scikit-learn.org. See: https://github.com/scikit-learn/scikit-learn/issues/21755 */display: inline-block !important;position: relative;}#sk-container-id-2 div.sk-text-repr-fallback {display: none;}</style><div id=\"sk-container-id-2\" class=\"sk-top-container\"><div class=\"sk-text-repr-fallback\"><pre>LogisticRegression()</pre><b>In a Jupyter environment, please rerun this cell to show the HTML representation or trust the notebook. <br />On GitHub, the HTML representation is unable to render, please try loading this page with nbviewer.org.</b></div><div class=\"sk-container\" hidden><div class=\"sk-item\"><div class=\"sk-estimator sk-toggleable\"><input class=\"sk-toggleable__control sk-hidden--visually\" id=\"sk-estimator-id-5\" type=\"checkbox\" checked><label for=\"sk-estimator-id-5\" class=\"sk-toggleable__label sk-toggleable__label-arrow\">LogisticRegression</label><div class=\"sk-toggleable__content\"><pre>LogisticRegression()</pre></div></div></div></div></div>"
            ]
          },
          "metadata": {},
          "execution_count": 23
        }
      ]
    },
    {
      "cell_type": "code",
      "metadata": {
        "id": "gIf4DlDtLnU_"
      },
      "source": [],
      "execution_count": null,
      "outputs": []
    },
    {
      "cell_type": "code",
      "metadata": {
        "id": "1Gto2-P_LnU_"
      },
      "source": [
        "#Training the model \n",
        "\n",
        "logistic_model_2=LogisticRegression()\n"
      ],
      "execution_count": 24,
      "outputs": []
    },
    {
      "cell_type": "code",
      "metadata": {
        "id": "E4FCZUKILnU_"
      },
      "source": [
        "#Testing \n",
        "\n",
        "predicted_value=logistic_model.predict(test_X)\n"
      ],
      "execution_count": 25,
      "outputs": []
    },
    {
      "cell_type": "code",
      "metadata": {
        "id": "f9UnvdjxLnVB",
        "colab": {
          "base_uri": "https://localhost:8080/",
          "height": 520
        },
        "outputId": "3a246d6d-f3db-4156-a746-c04bdeca9b62"
      },
      "source": [
        "#prediction the laptop  : Result\n",
        "pd.DataFrame({'predicted_value':predicted_value,'KnowO/P':test_Z})"
      ],
      "execution_count": 26,
      "outputs": [
        {
          "output_type": "execute_result",
          "data": {
            "text/plain": [
              "    predicted_value  KnowO/P\n",
              "12            48000    42000\n",
              "38            65000    78000\n",
              "49            65000    52000\n",
              "33            48000    52000\n",
              "22            48000    45000\n",
              "36            48000    42000\n",
              "24            65000    55000\n",
              "3             65000    52000\n",
              "35            65000    65000\n",
              "26            55000    35000\n",
              "40            48000    45000\n",
              "41            55000    48000\n",
              "45            78000    65000\n",
              "21            65000    65000\n",
              "0             55000    45000"
            ],
            "text/html": [
              "\n",
              "  <div id=\"df-07ef6ea8-3457-4a23-98b0-e4621eaa5f7d\">\n",
              "    <div class=\"colab-df-container\">\n",
              "      <div>\n",
              "<style scoped>\n",
              "    .dataframe tbody tr th:only-of-type {\n",
              "        vertical-align: middle;\n",
              "    }\n",
              "\n",
              "    .dataframe tbody tr th {\n",
              "        vertical-align: top;\n",
              "    }\n",
              "\n",
              "    .dataframe thead th {\n",
              "        text-align: right;\n",
              "    }\n",
              "</style>\n",
              "<table border=\"1\" class=\"dataframe\">\n",
              "  <thead>\n",
              "    <tr style=\"text-align: right;\">\n",
              "      <th></th>\n",
              "      <th>predicted_value</th>\n",
              "      <th>KnowO/P</th>\n",
              "    </tr>\n",
              "  </thead>\n",
              "  <tbody>\n",
              "    <tr>\n",
              "      <th>12</th>\n",
              "      <td>48000</td>\n",
              "      <td>42000</td>\n",
              "    </tr>\n",
              "    <tr>\n",
              "      <th>38</th>\n",
              "      <td>65000</td>\n",
              "      <td>78000</td>\n",
              "    </tr>\n",
              "    <tr>\n",
              "      <th>49</th>\n",
              "      <td>65000</td>\n",
              "      <td>52000</td>\n",
              "    </tr>\n",
              "    <tr>\n",
              "      <th>33</th>\n",
              "      <td>48000</td>\n",
              "      <td>52000</td>\n",
              "    </tr>\n",
              "    <tr>\n",
              "      <th>22</th>\n",
              "      <td>48000</td>\n",
              "      <td>45000</td>\n",
              "    </tr>\n",
              "    <tr>\n",
              "      <th>36</th>\n",
              "      <td>48000</td>\n",
              "      <td>42000</td>\n",
              "    </tr>\n",
              "    <tr>\n",
              "      <th>24</th>\n",
              "      <td>65000</td>\n",
              "      <td>55000</td>\n",
              "    </tr>\n",
              "    <tr>\n",
              "      <th>3</th>\n",
              "      <td>65000</td>\n",
              "      <td>52000</td>\n",
              "    </tr>\n",
              "    <tr>\n",
              "      <th>35</th>\n",
              "      <td>65000</td>\n",
              "      <td>65000</td>\n",
              "    </tr>\n",
              "    <tr>\n",
              "      <th>26</th>\n",
              "      <td>55000</td>\n",
              "      <td>35000</td>\n",
              "    </tr>\n",
              "    <tr>\n",
              "      <th>40</th>\n",
              "      <td>48000</td>\n",
              "      <td>45000</td>\n",
              "    </tr>\n",
              "    <tr>\n",
              "      <th>41</th>\n",
              "      <td>55000</td>\n",
              "      <td>48000</td>\n",
              "    </tr>\n",
              "    <tr>\n",
              "      <th>45</th>\n",
              "      <td>78000</td>\n",
              "      <td>65000</td>\n",
              "    </tr>\n",
              "    <tr>\n",
              "      <th>21</th>\n",
              "      <td>65000</td>\n",
              "      <td>65000</td>\n",
              "    </tr>\n",
              "    <tr>\n",
              "      <th>0</th>\n",
              "      <td>55000</td>\n",
              "      <td>45000</td>\n",
              "    </tr>\n",
              "  </tbody>\n",
              "</table>\n",
              "</div>\n",
              "      <button class=\"colab-df-convert\" onclick=\"convertToInteractive('df-07ef6ea8-3457-4a23-98b0-e4621eaa5f7d')\"\n",
              "              title=\"Convert this dataframe to an interactive table.\"\n",
              "              style=\"display:none;\">\n",
              "        \n",
              "  <svg xmlns=\"http://www.w3.org/2000/svg\" height=\"24px\"viewBox=\"0 0 24 24\"\n",
              "       width=\"24px\">\n",
              "    <path d=\"M0 0h24v24H0V0z\" fill=\"none\"/>\n",
              "    <path d=\"M18.56 5.44l.94 2.06.94-2.06 2.06-.94-2.06-.94-.94-2.06-.94 2.06-2.06.94zm-11 1L8.5 8.5l.94-2.06 2.06-.94-2.06-.94L8.5 2.5l-.94 2.06-2.06.94zm10 10l.94 2.06.94-2.06 2.06-.94-2.06-.94-.94-2.06-.94 2.06-2.06.94z\"/><path d=\"M17.41 7.96l-1.37-1.37c-.4-.4-.92-.59-1.43-.59-.52 0-1.04.2-1.43.59L10.3 9.45l-7.72 7.72c-.78.78-.78 2.05 0 2.83L4 21.41c.39.39.9.59 1.41.59.51 0 1.02-.2 1.41-.59l7.78-7.78 2.81-2.81c.8-.78.8-2.07 0-2.86zM5.41 20L4 18.59l7.72-7.72 1.47 1.35L5.41 20z\"/>\n",
              "  </svg>\n",
              "      </button>\n",
              "      \n",
              "  <style>\n",
              "    .colab-df-container {\n",
              "      display:flex;\n",
              "      flex-wrap:wrap;\n",
              "      gap: 12px;\n",
              "    }\n",
              "\n",
              "    .colab-df-convert {\n",
              "      background-color: #E8F0FE;\n",
              "      border: none;\n",
              "      border-radius: 50%;\n",
              "      cursor: pointer;\n",
              "      display: none;\n",
              "      fill: #1967D2;\n",
              "      height: 32px;\n",
              "      padding: 0 0 0 0;\n",
              "      width: 32px;\n",
              "    }\n",
              "\n",
              "    .colab-df-convert:hover {\n",
              "      background-color: #E2EBFA;\n",
              "      box-shadow: 0px 1px 2px rgba(60, 64, 67, 0.3), 0px 1px 3px 1px rgba(60, 64, 67, 0.15);\n",
              "      fill: #174EA6;\n",
              "    }\n",
              "\n",
              "    [theme=dark] .colab-df-convert {\n",
              "      background-color: #3B4455;\n",
              "      fill: #D2E3FC;\n",
              "    }\n",
              "\n",
              "    [theme=dark] .colab-df-convert:hover {\n",
              "      background-color: #434B5C;\n",
              "      box-shadow: 0px 1px 3px 1px rgba(0, 0, 0, 0.15);\n",
              "      filter: drop-shadow(0px 1px 2px rgba(0, 0, 0, 0.3));\n",
              "      fill: #FFFFFF;\n",
              "    }\n",
              "  </style>\n",
              "\n",
              "      <script>\n",
              "        const buttonEl =\n",
              "          document.querySelector('#df-07ef6ea8-3457-4a23-98b0-e4621eaa5f7d button.colab-df-convert');\n",
              "        buttonEl.style.display =\n",
              "          google.colab.kernel.accessAllowed ? 'block' : 'none';\n",
              "\n",
              "        async function convertToInteractive(key) {\n",
              "          const element = document.querySelector('#df-07ef6ea8-3457-4a23-98b0-e4621eaa5f7d');\n",
              "          const dataTable =\n",
              "            await google.colab.kernel.invokeFunction('convertToInteractive',\n",
              "                                                     [key], {});\n",
              "          if (!dataTable) return;\n",
              "\n",
              "          const docLinkHtml = 'Like what you see? Visit the ' +\n",
              "            '<a target=\"_blank\" href=https://colab.research.google.com/notebooks/data_table.ipynb>data table notebook</a>'\n",
              "            + ' to learn more about interactive tables.';\n",
              "          element.innerHTML = '';\n",
              "          dataTable['output_type'] = 'display_data';\n",
              "          await google.colab.output.renderOutput(dataTable, element);\n",
              "          const docLink = document.createElement('div');\n",
              "          docLink.innerHTML = docLinkHtml;\n",
              "          element.appendChild(docLink);\n",
              "        }\n",
              "      </script>\n",
              "    </div>\n",
              "  </div>\n",
              "  "
            ]
          },
          "metadata": {},
          "execution_count": 26
        }
      ]
    },
    {
      "cell_type": "code",
      "metadata": {
        "id": "_4C80a5PLnVC"
      },
      "source": [],
      "execution_count": null,
      "outputs": []
    },
    {
      "cell_type": "code",
      "source": [],
      "metadata": {
        "id": "32y8iNcl_wLx"
      },
      "execution_count": null,
      "outputs": []
    },
    {
      "cell_type": "code",
      "source": [
        "#Pipeline to compare regression models quickly of KNN, DecisionTree"
      ],
      "metadata": {
        "id": "hrYT_6mFBzOG"
      },
      "execution_count": 64,
      "outputs": []
    },
    {
      "cell_type": "code",
      "source": [
        "from sklearn.pipeline import Pipeline\n",
        "from sklearn.compose import ColumnTransformer\n",
        "from sklearn.impute import SimpleImputer\n",
        "\n",
        "num_pipeline = Pipeline(steps=[('impute', SimpleImputer(strategy='mean'))])"
      ],
      "metadata": {
        "id": "o6CmAu8rB0e8"
      },
      "execution_count": 65,
      "outputs": []
    },
    {
      "cell_type": "code",
      "source": [
        "def prepare_model(algorithm, train_X, train_Y): \n",
        "    model = Pipeline(steps=[('preprocessing', num_pipeline),('algorithm', algorithm)])\n",
        "    model.fit(X_train, y_train)\n",
        "    return model"
      ],
      "metadata": {
        "id": "lV-EwlpBB0xk"
      },
      "execution_count": 66,
      "outputs": []
    },
    {
      "cell_type": "code",
      "source": [
        "from sklearn.ensemble import RandomForestRegressor, AdaBoostRegressor, GradientBoostingRegressor, BaggingRegressor\n",
        "from sklearn.svm import SVR\n",
        "from sklearn.tree import DecisionTreeRegressor, ExtraTreeRegressor\n",
        "from sklearn.linear_model import LinearRegression, SGDRegressor\n",
        "from sklearn.neighbors import KNeighborsRegressor\n",
        "import time\n",
        "from sklearn.metrics import mean_squared_error, mean_absolute_error"
      ],
      "metadata": {
        "id": "AgSUJe5PB1EM"
      },
      "execution_count": 67,
      "outputs": []
    },
    {
      "cell_type": "code",
      "source": [
        "algorithms = [ DecisionTreeRegressor(), KNeighborsRegressor()]"
      ],
      "metadata": {
        "id": "i32TCsljCAPD"
      },
      "execution_count": 68,
      "outputs": []
    },
    {
      "cell_type": "code",
      "source": [
        "names = []\n",
        "times = []\n",
        "mses = []\n",
        "maes = []\n",
        "\n",
        "for algorithm in algorithms:\n",
        "    name = type(algorithm).__name__\n",
        "    names.append(name)\n",
        "    print(name)\n",
        "    start_time = time.time()\n",
        "    model = prepare_model(algorithm, X_train, y_train)\n",
        "    pred = model.predict(X_test)\n",
        "    end_time = time.time()\n",
        "    print(end_time - start_time)\n",
        "    times.append(end_time - start_time)\n",
        "    mses.append(mean_squared_error(y_test, pred))\n",
        "    maes.append(mean_absolute_error(y_test, pred))"
      ],
      "metadata": {
        "colab": {
          "base_uri": "https://localhost:8080/"
        },
        "id": "q7CWX8QbCAkN",
        "outputId": "fa1e086b-aa79-4bf5-b61c-a26e91f0d5c9"
      },
      "execution_count": 69,
      "outputs": [
        {
          "output_type": "stream",
          "name": "stdout",
          "text": [
            "DecisionTreeRegressor\n",
            "0.0051898956298828125\n",
            "KNeighborsRegressor\n",
            "0.005311012268066406\n"
          ]
        }
      ]
    },
    {
      "cell_type": "code",
      "source": [
        "#--comparing algorithms\n",
        "results_dict = {'Algorithm': names, 'MSE': mses, 'MAE': maes, 'Time': times}\n",
        "pd.DataFrame(results_dict).sort_values(by='MSE', ascending=1)"
      ],
      "metadata": {
        "colab": {
          "base_uri": "https://localhost:8080/",
          "height": 112
        },
        "id": "cXKQAJXpCFXc",
        "outputId": "dd58f261-6fe3-4bd7-f4a1-7768010960d4"
      },
      "execution_count": 70,
      "outputs": [
        {
          "output_type": "execute_result",
          "data": {
            "text/plain": [
              "               Algorithm       MSE       MAE      Time\n",
              "1    KNeighborsRegressor  0.092464  0.149275  0.005311\n",
              "0  DecisionTreeRegressor  0.130435  0.130435  0.005190"
            ],
            "text/html": [
              "\n",
              "  <div id=\"df-09eb1eaf-0d7a-4fa6-b96f-b15c182e0531\">\n",
              "    <div class=\"colab-df-container\">\n",
              "      <div>\n",
              "<style scoped>\n",
              "    .dataframe tbody tr th:only-of-type {\n",
              "        vertical-align: middle;\n",
              "    }\n",
              "\n",
              "    .dataframe tbody tr th {\n",
              "        vertical-align: top;\n",
              "    }\n",
              "\n",
              "    .dataframe thead th {\n",
              "        text-align: right;\n",
              "    }\n",
              "</style>\n",
              "<table border=\"1\" class=\"dataframe\">\n",
              "  <thead>\n",
              "    <tr style=\"text-align: right;\">\n",
              "      <th></th>\n",
              "      <th>Algorithm</th>\n",
              "      <th>MSE</th>\n",
              "      <th>MAE</th>\n",
              "      <th>Time</th>\n",
              "    </tr>\n",
              "  </thead>\n",
              "  <tbody>\n",
              "    <tr>\n",
              "      <th>1</th>\n",
              "      <td>KNeighborsRegressor</td>\n",
              "      <td>0.092464</td>\n",
              "      <td>0.149275</td>\n",
              "      <td>0.005311</td>\n",
              "    </tr>\n",
              "    <tr>\n",
              "      <th>0</th>\n",
              "      <td>DecisionTreeRegressor</td>\n",
              "      <td>0.130435</td>\n",
              "      <td>0.130435</td>\n",
              "      <td>0.005190</td>\n",
              "    </tr>\n",
              "  </tbody>\n",
              "</table>\n",
              "</div>\n",
              "      <button class=\"colab-df-convert\" onclick=\"convertToInteractive('df-09eb1eaf-0d7a-4fa6-b96f-b15c182e0531')\"\n",
              "              title=\"Convert this dataframe to an interactive table.\"\n",
              "              style=\"display:none;\">\n",
              "        \n",
              "  <svg xmlns=\"http://www.w3.org/2000/svg\" height=\"24px\"viewBox=\"0 0 24 24\"\n",
              "       width=\"24px\">\n",
              "    <path d=\"M0 0h24v24H0V0z\" fill=\"none\"/>\n",
              "    <path d=\"M18.56 5.44l.94 2.06.94-2.06 2.06-.94-2.06-.94-.94-2.06-.94 2.06-2.06.94zm-11 1L8.5 8.5l.94-2.06 2.06-.94-2.06-.94L8.5 2.5l-.94 2.06-2.06.94zm10 10l.94 2.06.94-2.06 2.06-.94-2.06-.94-.94-2.06-.94 2.06-2.06.94z\"/><path d=\"M17.41 7.96l-1.37-1.37c-.4-.4-.92-.59-1.43-.59-.52 0-1.04.2-1.43.59L10.3 9.45l-7.72 7.72c-.78.78-.78 2.05 0 2.83L4 21.41c.39.39.9.59 1.41.59.51 0 1.02-.2 1.41-.59l7.78-7.78 2.81-2.81c.8-.78.8-2.07 0-2.86zM5.41 20L4 18.59l7.72-7.72 1.47 1.35L5.41 20z\"/>\n",
              "  </svg>\n",
              "      </button>\n",
              "      \n",
              "  <style>\n",
              "    .colab-df-container {\n",
              "      display:flex;\n",
              "      flex-wrap:wrap;\n",
              "      gap: 12px;\n",
              "    }\n",
              "\n",
              "    .colab-df-convert {\n",
              "      background-color: #E8F0FE;\n",
              "      border: none;\n",
              "      border-radius: 50%;\n",
              "      cursor: pointer;\n",
              "      display: none;\n",
              "      fill: #1967D2;\n",
              "      height: 32px;\n",
              "      padding: 0 0 0 0;\n",
              "      width: 32px;\n",
              "    }\n",
              "\n",
              "    .colab-df-convert:hover {\n",
              "      background-color: #E2EBFA;\n",
              "      box-shadow: 0px 1px 2px rgba(60, 64, 67, 0.3), 0px 1px 3px 1px rgba(60, 64, 67, 0.15);\n",
              "      fill: #174EA6;\n",
              "    }\n",
              "\n",
              "    [theme=dark] .colab-df-convert {\n",
              "      background-color: #3B4455;\n",
              "      fill: #D2E3FC;\n",
              "    }\n",
              "\n",
              "    [theme=dark] .colab-df-convert:hover {\n",
              "      background-color: #434B5C;\n",
              "      box-shadow: 0px 1px 3px 1px rgba(0, 0, 0, 0.15);\n",
              "      filter: drop-shadow(0px 1px 2px rgba(0, 0, 0, 0.3));\n",
              "      fill: #FFFFFF;\n",
              "    }\n",
              "  </style>\n",
              "\n",
              "      <script>\n",
              "        const buttonEl =\n",
              "          document.querySelector('#df-09eb1eaf-0d7a-4fa6-b96f-b15c182e0531 button.colab-df-convert');\n",
              "        buttonEl.style.display =\n",
              "          google.colab.kernel.accessAllowed ? 'block' : 'none';\n",
              "\n",
              "        async function convertToInteractive(key) {\n",
              "          const element = document.querySelector('#df-09eb1eaf-0d7a-4fa6-b96f-b15c182e0531');\n",
              "          const dataTable =\n",
              "            await google.colab.kernel.invokeFunction('convertToInteractive',\n",
              "                                                     [key], {});\n",
              "          if (!dataTable) return;\n",
              "\n",
              "          const docLinkHtml = 'Like what you see? Visit the ' +\n",
              "            '<a target=\"_blank\" href=https://colab.research.google.com/notebooks/data_table.ipynb>data table notebook</a>'\n",
              "            + ' to learn more about interactive tables.';\n",
              "          element.innerHTML = '';\n",
              "          dataTable['output_type'] = 'display_data';\n",
              "          await google.colab.output.renderOutput(dataTable, element);\n",
              "          const docLink = document.createElement('div');\n",
              "          docLink.innerHTML = docLinkHtml;\n",
              "          element.appendChild(docLink);\n",
              "        }\n",
              "      </script>\n",
              "    </div>\n",
              "  </div>\n",
              "  "
            ]
          },
          "metadata": {},
          "execution_count": 70
        }
      ]
    },
    {
      "cell_type": "code",
      "source": [],
      "metadata": {
        "id": "dxUDVQpvB9JM"
      },
      "execution_count": null,
      "outputs": []
    },
    {
      "cell_type": "code",
      "source": [
        "import csv\n",
        "list_student=[]\n",
        "list_developer=[]\n",
        "list_gamer=[]\n",
        "list_basic=[]"
      ],
      "metadata": {
        "id": "safygEbn0ZlE"
      },
      "execution_count": 27,
      "outputs": []
    },
    {
      "cell_type": "code",
      "source": [
        "with open('/content/drive/My Drive/Colab Notebooks/laptop/laptop.csv', encoding='latin-1') as file_obj:\n",
        "      \n",
        "    # Create reader object by passing the file \n",
        "    # object to reader method\n",
        "    reader_obj = csv.reader(file_obj)\n",
        "    print(reader_obj) \n",
        "    # Iterate over each row in the csv \n",
        "    # file using reader object\n",
        "    for row in reader_obj:\n",
        "       #----student\n",
        "       if   row[3]=='4' and int(row[5])<=300 and  int(row[6])<=3 and int(row[10])<=40000:\n",
        "          list_student.append(row[0])\n",
        "       \n",
        "       #----developer\n",
        "       if     row[3]=='8' and int(row[5])>=300 and   int(row[6])>=3 and int(row[10])>=40000:\n",
        "          list_developer.append(row[0])\n",
        "\n",
        "       #---Gamer\n",
        "       if     row[3]=='8' and int(row[5])>=100 and   int(row[6])>=5 and   int(row[6])>=5 and  row[7]=='FHD gaming' or  row[7]==' Radeon RX' and int(row[10])>=40000:\n",
        "          list_gamer.append(row[0])\n",
        "\n",
        "       #----Basic\n",
        "       if   row[3]=='4' and int(row[5])<=100 and  int(row[6])<=2 and int(row[10])<=35000:\n",
        "          list_basic.append(row[0])\n",
        "\n"
      ],
      "metadata": {
        "colab": {
          "base_uri": "https://localhost:8080/"
        },
        "id": "REIRX__RxaQF",
        "outputId": "10f30502-3311-4fd7-c604-8add6c151fa0"
      },
      "execution_count": 28,
      "outputs": [
        {
          "output_type": "stream",
          "name": "stdout",
          "text": [
            "<_csv.reader object at 0x7f62c5728190>\n"
          ]
        }
      ]
    },
    {
      "cell_type": "code",
      "source": [],
      "metadata": {
        "id": "nju-CWNGyWIB"
      },
      "execution_count": null,
      "outputs": []
    },
    {
      "cell_type": "code",
      "source": [],
      "metadata": {
        "id": "RoR2vRMGf0DZ"
      },
      "execution_count": null,
      "outputs": []
    },
    {
      "cell_type": "code",
      "source": [
        "name=input('Choose the Category (student/Gaming/Developer/Basic)')\n",
        "\n",
        "print('---------------------------------------------------------------------')\n",
        "print('LAptop Details based on  Requirements Performance:',name)\n",
        "print('---------------------------------------------------------------------')\n",
        "print('\\n')\n",
        "\n",
        "with open('/content/drive/My Drive/Colab Notebooks/laptop/laptop.csv', encoding='latin-1') as file_obj:\n",
        "    reader_obj = csv.reader(file_obj)\n",
        "    print(reader_obj) \n",
        "    for row in reader_obj:\n",
        "      if name=='Student' or name=='student':\n",
        "          \n",
        "          if   row[0] in list_student:\n",
        "            print('Laptop Model Name :  ',row[1],' ',row[2],'  RAM  :',row[3],'GB     ',row[4],' ',row[5],'GB SSD   ',' Frequeney  ',row[6],'   Price: ',row[10])\n",
        "\n",
        "      if name=='Developer' or name=='developer':\n",
        "          \n",
        "          if   row[0] in list_developer:\n",
        "            print('Laptop Model Name :  ',row[1],' ',row[2],'  RAM  :',row[3],'GB     ',row[4],' ',row[5],'GB SSD   ',' Frequeney  ',row[6],'   Price: ',row[10])\n",
        "      \n",
        "      if name=='Gaming' or name=='gaming':\n",
        "          \n",
        "          if   row[0] in list_gamer:\n",
        "            print('Laptop Model Name :  ',row[1],' ',row[2],'  RAM  :',row[3],'GB     ',row[4],' ',row[5],'GB SSD   ',' Frequeney  ',row[6],'   Price: ',row[10])\n",
        "     \n",
        "      if name=='Basic' or name=='basic':\n",
        "          \n",
        "          if   row[0] in list_basic:\n",
        "            print('Laptop Model Name :  ',row[1],' ',row[2],'  RAM  :',row[3],'GB     ',row[4],' ',row[5],'GB SSD   ',' Frequeney  ',row[6],'   Price: ',row[10])\n",
        "\n"
      ],
      "metadata": {
        "colab": {
          "base_uri": "https://localhost:8080/"
        },
        "id": "4vCjI_Ygx35C",
        "outputId": "05cb0e8b-6ad2-467e-d01f-e0ff1e009028"
      },
      "execution_count": 29,
      "outputs": [
        {
          "output_type": "stream",
          "name": "stdout",
          "text": [
            "Choose the Category (student/Gaming/Developer/Basic)student\n",
            "---------------------------------------------------------------------\n",
            "LAptop Details based on  Requirements Performance: student\n",
            "---------------------------------------------------------------------\n",
            "\n",
            "\n",
            "<_csv.reader object at 0x7f62c5741350>\n",
            "Laptop Model Name :   HP 15s Athlon    AMD Athlon Dual Core Processor   RAM  : 4 GB      64 bit Windows 10 Operating System   100 GB SSD     Frequeney   2    Price:  35000\n",
            "Laptop Model Name :   Lenovo IdeaPad Core M31   Intel Core i3 Processor (10th Gen)   RAM  : 4 GB      64 bit Windows 10 Operating System   256 GB SSD     Frequeney   1    Price:  35500\n"
          ]
        }
      ]
    },
    {
      "cell_type": "code",
      "source": [
        "#-------------Comparision of Accuracy levels\n",
        "for clf in (log,  GB, voting):\n",
        "    clf.fit(X_train, y_train)\n",
        "    y_pred = clf.predict(X_test)\n",
        "    print(clf.__class__.__name__, accuracy_score(y_test, y_pred))"
      ],
      "metadata": {
        "colab": {
          "base_uri": "https://localhost:8080/"
        },
        "id": "hNd9fUTnf1I4",
        "outputId": "32e8aca7-fd65-452a-986b-9881d170ad28"
      },
      "execution_count": null,
      "outputs": [
        {
          "output_type": "stream",
          "name": "stdout",
          "text": [
            "LogisticRegression 0.8405797101449275\n",
            "GaussianNB 0.8478260869565217\n",
            "VotingClassifier 0.8478260869565217\n"
          ]
        }
      ]
    },
    {
      "cell_type": "code",
      "source": [
        "print('Conclusion: Logistic Regression algorithm is finalized as best prediction algorithm univresally best for prediction')"
      ],
      "metadata": {
        "colab": {
          "base_uri": "https://localhost:8080/"
        },
        "id": "VxSM40NCiJ45",
        "outputId": "a5800a2d-2ed4-4a1f-8b0d-7e69aa1fd7ae"
      },
      "execution_count": null,
      "outputs": [
        {
          "output_type": "stream",
          "name": "stdout",
          "text": [
            "Conclusion: Logistic Regression algorithm is finalized as best prediction algorithm univresally best for prediction\n"
          ]
        }
      ]
    }
  ]
}